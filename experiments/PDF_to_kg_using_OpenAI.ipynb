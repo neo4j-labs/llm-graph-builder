{
 "cells": [
  {
   "cell_type": "markdown",
   "id": "bb375284",
   "metadata": {},
   "source": [
    "# Creating Knowledge graphs from Pdf files"
   ]
  },
  {
   "cell_type": "code",
   "execution_count": 2,
   "id": "3e44b03b",
   "metadata": {},
   "outputs": [],
   "source": [
    "from langchain.graphs import Neo4jGraph\n",
    "\n",
    "url = \"\"\n",
    "username =\"\"\n",
    "password = \"\"\n",
    "graph = Neo4jGraph(\n",
    "    url=url,\n",
    "    username=username,\n",
    "    password=password\n",
    ")"
   ]
  },
  {
   "cell_type": "code",
   "execution_count": 15,
   "id": "98e7e6c9",
   "metadata": {},
   "outputs": [],
   "source": [
    "# Add OpenAI key\n",
    "os.environ['OPENAI_API_KEY']=''"
   ]
  },
  {
   "cell_type": "code",
   "execution_count": 4,
   "id": "0d7f3cfc",
   "metadata": {},
   "outputs": [],
   "source": [
    "from langchain_community.graphs.graph_document import (\n",
    "    Node as BaseNode,\n",
    "    Relationship as BaseRelationship,\n",
    "    GraphDocument,\n",
    ")\n",
    "from langchain.schema import Document\n",
    "from typing import List, Dict, Any, Optional\n",
    "from langchain.pydantic_v1 import Field, BaseModel\n",
    "\n",
    "class Property(BaseModel):\n",
    "  \"\"\"A single property consisting of key and value\"\"\"\n",
    "  key: str = Field(..., description=\"key\")\n",
    "  value: str = Field(..., description=\"value\")\n",
    "\n",
    "class Node(BaseNode):\n",
    "    properties: Optional[List[Property]] = Field(\n",
    "        None, description=\"List of node properties\")\n",
    "\n",
    "class Relationship(BaseRelationship):\n",
    "    properties: Optional[List[Property]] = Field(\n",
    "        None, description=\"List of relationship properties\"\n",
    "    )\n",
    "\n",
    "class Source(BaseSource):\n",
    "    properties: Optional[List[Property]] = Field(\n",
    "        None, description=\"List of sources\"\n",
    "    )        \n",
    "        \n",
    "class KnowledgeGraph(BaseModel):\n",
    "    \"\"\"Generate a knowledge graph with entities and relationships.\"\"\"\n",
    "    nodes: List[Node] = Field(\n",
    "        ..., description=\"List of nodes in the knowledge graph\")\n",
    "    rels: List[Relationship] = Field(\n",
    "        ..., description=\"List of relationships in the knowledge graph\"\n",
    "    )"
   ]
  },
  {
   "cell_type": "code",
   "execution_count": 5,
   "id": "2206d78a",
   "metadata": {},
   "outputs": [],
   "source": [
    "def format_property_key(s: str) -> str:\n",
    "    words = s.split()\n",
    "    if not words:\n",
    "        return s\n",
    "    first_word = words[0].lower()\n",
    "    capitalized_words = [word.capitalize() for word in words[1:]]\n",
    "    return \"\".join([first_word] + capitalized_words)\n",
    "\n",
    "def props_to_dict(props) -> dict:\n",
    "    \"\"\"Convert properties to a dictionary.\"\"\"\n",
    "    properties = {}\n",
    "    if not props:\n",
    "      return properties\n",
    "    for p in props:\n",
    "        properties[format_property_key(p.key)] = p.value\n",
    "    return properties\n",
    "\n",
    "def map_to_base_node(node: Node) -> BaseNode:\n",
    "    \"\"\"Map the KnowledgeGraph Node to the base Node.\"\"\"\n",
    "    properties = props_to_dict(node.properties) if node.properties else {}\n",
    "    # Add name property for better Cypher statement generation\n",
    "    properties[\"name\"] = node.id.title()\n",
    "    return BaseNode(\n",
    "        id=node.id.title(), type=node.type.capitalize(), properties=properties\n",
    "    )\n",
    "\n",
    "\n",
    "def map_to_base_relationship(rel: Relationship) -> BaseRelationship:\n",
    "    \"\"\"Map the KnowledgeGraph Relationship to the base Relationship.\"\"\"\n",
    "    source = map_to_base_node(rel.source)\n",
    "    target = map_to_base_node(rel.target)\n",
    "    properties = props_to_dict(rel.properties) if rel.properties else {}\n",
    "    return BaseRelationship(\n",
    "        source=source, target=target, type=rel.type, properties=properties\n",
    "    )"
   ]
  },
  {
   "cell_type": "markdown",
   "id": "eaf6d19f",
   "metadata": {},
   "source": [
    "# Using GPT-3.5-turbo-16k model to create the knowledge graph"
   ]
  },
  {
   "cell_type": "code",
   "execution_count": 16,
   "id": "505a5db2",
   "metadata": {},
   "outputs": [],
   "source": [
    "import os\n",
    "from langchain.chains.openai_functions import (\n",
    "    create_openai_fn_chain,\n",
    "    create_structured_output_chain,\n",
    ")\n",
    "from langchain_openai import ChatOpenAI\n",
    "from langchain.prompts import ChatPromptTemplate\n",
    "\n",
    "# os.environ[\"OPENAI_API_KEY\"] = \"sk-\"\n",
    "llm = ChatOpenAI(model=\"gpt-3.5-turbo-16k\", temperature=0)\n",
    "\n",
    "def get_extraction_chain(\n",
    "    allowed_nodes: Optional[List[str]] = None,\n",
    "    allowed_rels: Optional[List[str]] = None\n",
    "    ):\n",
    "    prompt = ChatPromptTemplate.from_messages(\n",
    "        [(\n",
    "          \"system\",\n",
    "          f\"\"\"# Knowledge Graph Instructions for GPT-4\n",
    "## 1. Overview\n",
    "You are a top-tier algorithm designed for extracting information in structured formats to build a knowledge graph.\n",
    "- **Nodes** represent entities and concepts. They're akin to Wikipedia nodes.\n",
    "- The aim is to achieve simplicity and clarity in the knowledge graph, making it accessible for a vast audience.\n",
    "## 2. Labeling Nodes\n",
    "- **Consistency**: Ensure you use basic or elementary types for node labels.\n",
    "  - For example, when you identify an entity representing a person, always label it as **\"person\"**. Avoid using more specific terms like \"mathematician\" or \"scientist\".\n",
    "- **Node IDs**: Never utilize integers as node IDs. Node IDs should be names or human-readable identifiers found in the text.\n",
    "{'- **Allowed Node Labels:**' + \", \".join(allowed_nodes) if allowed_nodes else \"\"}\n",
    "{'- **Allowed Relationship Types**:' + \", \".join(allowed_rels) if allowed_rels else \"\"}\n",
    "## 3. Handling Numerical Data and Dates\n",
    "- Numerical data, like age or other related information, should be incorporated as attributes or properties of the respective nodes.\n",
    "- **No Separate Nodes for Dates/Numbers**: Do not create separate nodes for dates or numerical values. Always attach them as attributes or properties of nodes.\n",
    "- **Property Format**: Properties must be in a key-value format.\n",
    "- **Quotation Marks**: Never use escaped single or double quotes within property values.\n",
    "- **Naming Convention**: Use camelCase for property keys, e.g., `birthDate`.\n",
    "## 4. Coreference Resolution\n",
    "- **Maintain Entity Consistency**: When extracting entities, it's vital to ensure consistency.\n",
    "If an entity, such as \"John Doe\", is mentioned multiple times in the text but is referred to by different names or pronouns (e.g., \"Joe\", \"he\"),\n",
    "always use the most complete identifier for that entity throughout the knowledge graph. In this example, use \"John Doe\" as the entity ID.\n",
    "Remember, the knowledge graph should be coherent and easily understandable, so maintaining consistency in entity references is crucial.\n",
    "## 5. Strict Compliance\n",
    "Adhere to the rules strictly. Non-compliance will result in termination.\n",
    "          \"\"\"),\n",
    "            (\"human\", \"Use the given format to extract information from the following input: {input}\"),\n",
    "            (\"human\", \"Tip: Make sure to answer in the correct format\"),\n",
    "        ])\n",
    "    return create_structured_output_chain(KnowledgeGraph, llm, prompt, verbose=False)"
   ]
  },
  {
   "cell_type": "code",
   "execution_count": 45,
   "id": "cf8b15fd",
   "metadata": {},
   "outputs": [],
   "source": [
    "def extract_and_store_graph(\n",
    "    document: Document,\n",
    "    nodes:Optional[List[str]] = None,\n",
    "    rels:Optional[List[str]]=None) -> None:\n",
    "    # Extract graph data using OpenAI functions\n",
    "    extract_chain = get_extraction_chain(nodes, rels)\n",
    "    data = extract_chain.invoke(document.page_content)['function']\n",
    "    # Construct a graph document\n",
    "    graph_document = GraphDocument(\n",
    "      nodes = [map_to_base_node(node) for node in data.nodes],\n",
    "      relationships = [map_to_base_relationship(rel) for rel in data.rels],\n",
    "      source = document\n",
    "    )\n",
    "    # Store information into a graph\n",
    "    print(graph_document)\n",
    "    graph.add_graph_documents([graph_document])\n",
    "    return graph_document"
   ]
  },
  {
   "cell_type": "code",
   "execution_count": 77,
   "id": "b7552cce",
   "metadata": {},
   "outputs": [],
   "source": [
    "\n",
    "from langchain.text_splitter import TokenTextSplitter\n",
    "\n",
    "from langchain_community.document_loaders import PyPDFLoader\n",
    "\n",
    "loader = PyPDFLoader(\"data/December_2023_Bolt.pdf\")\n",
    "\n",
    "pages = loader.load_and_split()\n",
    "\n",
    "# Define chunking strategy\n",
    "text_splitter = TokenTextSplitter(chunk_size=2048, chunk_overlap=24)\n",
    "\n",
    "# Only take the first 4 pages of the document\n",
    "documents = text_splitter.split_documents(pages[:4])"
   ]
  },
  {
   "cell_type": "code",
   "execution_count": 78,
   "id": "966c6e17",
   "metadata": {},
   "outputs": [
    {
     "data": {
      "text/plain": [
       "[Document(page_content='oliv ebo a r d.in uick revisionCLICK HERE TO PREPARE FOR \\nIBPS, SSC, SBI, RAILWAYS & RBI EXAMS IN ONE PLACE\\nBolt is a series of GK Summary ebooks by  Oliveboard  for q\\noliveboard\\nNow with\\nIn-depth\\nCoverageDecember 2023\\nMonthly Current Affairs', metadata={'source': 'C:/Users/rakshita_arora/Downloads/December_2023_Bolt.pdf', 'page': 0}),\n",
       " Document(page_content='www.oliveboard.in  \\nwww.oliveboard.in  \\nTable of Contents  \\nBanking & Finance  ................................ ................................ ................................ ..................  3 \\nEconomy  ................................ ................................ ................................ ...............................  15 \\nNational  ................................ ................................ ................................ ................................  24 \\nInternational  ................................ ................................ ................................ ........................  36 \\nSports  ................................ ................................ ................................ ................................ ... 41 \\nAgreements & MoUs  ................................ ................................ ................................ ............  48 \\nSchemes  ................................ ................................ ................................ ...............................  59 \\nAppointments & Resignations  ................................ ................................ .............................  66 \\nAwards  ................................ ................................ ................................ ................................ . 70 \\nRanks & Reports  ................................ ................................ ................................ ...................  79 \\nImportant Days  ................................ ................................ ................................ ....................  89 \\nSummit & Conferences ................................ ................................ ................................ .........  94 \\nScience & Technology ................................ ................................ ................................ ...........  97 \\nDefence  ................................ ................................ ................................ ..............................  102 \\nBooks & Authors  ................................ ................................ ................................ ................  107 \\nMiscellaneous  ................................ ................................ ................................ ....................  108 \\nObituary  ................................ ................................ ................................ .............................  109 \\nPerson in news  ................................ ................................ ................................ ...................  111 \\nInsurance  ................................ ................................ ................................ ............................  113 \\nIndia & World  ................................ ................................ ................................ .....................  115 \\nEnvironment  ................................ ................................ ................................ .......................  120 \\nApps & Portals  ................................ ................................ ................................ ....................  120 \\nAcquisitions & Mergers  ................................ ................................ ................................ ...... 121 \\nAgri-Business  ................................ ................................ ................................ ......................  124 \\nExternal Affairs  ................................ ................................ ................................ ...................  125 \\nFinTech  ................................ ................................ ................................ ...............................  126 \\nStates/UTs  ................................ ................................ ................................ ..........................  127 \\n2', metadata={'source': 'C:/Users/rakshita_arora/Downloads/December_2023_Bolt.pdf', 'page': 1}),\n",
       " Document(page_content=\"www.oliveboard.in  \\nwww.oliveboard.in  \\nBanking & Finance  \\n1. RBI Fines Bank Of America, N.A., HDFC Bank  \\n• RBI has imposed a penalty of Rs 10,000 \\neach on Bank of America, N.A. and \\nHDFC Bank Ltd for violation of certain \\nnorms.  \\n• The penalty on Bank of America, N.A. \\nhas been imposed for violation of \\nReserve Bank of India's instructions on \\nreporting requirements under \\nLiberalised Remittance Scheme of FEMA \\n1999 . \\n• Brian Thomas Moynihan, current \\nchairman and CEO of Bank of America.  \\n• The penalty on HDFC Bank is for \\nviolation of directions on acceptance of \\ndeposits from non -residents.  \\n• Besides, penalties have been imposed on \\nfive cooperative banks for non -\\ncompliance with various regulatory \\nnorms.  \\n• The cooperative banks which have been \\npenalised are  The Patliputra Central \\nCooperative Bank, Bihar; The Balasore \\nBhadrak Central Co -operative Bank, \\nOdisha; The Dhrangadhra People's Co -\\noperative Bank, Gujarat; Patan Nagarik \\nSahakari Bank Ltd., Patan, Gujarat; and \\nThe Mandal Nagarik Sahakari Bank, \\nGujarat.  \\n• In all cases, the RBI said the penalties are \\nbased on the deficiencies in regulatory \\ncompliance and is not intended to \\npronounce upon the validity of any \\ntransaction or agreement entered into \\nby entities with their customers.  \\n2. SBI MF gets RBI nod to buy 9.99% stake in \\nKarur Vysya Bank  \\n• The Reserve Bank has given its approval \\nto SBI Mutual Fund (SBI MF) for \\nacquiring up to 9.99%  of the paid -up share capital or voting rights of Karur \\nVysya Bank Ltd (KVB).  \\n• If SBI MF fails to acquire major \\nshareholding within a period of one year \\nfrom the date of RBI's letter, this \\napproval shall stand cancelled.  \\n• Besides, SBI MF must ensure that the \\naggregate holding in the bank does not \\nnot exceed 9.99% at all times.  \\n• Further, if the aggregate holding falls \\nbelow 5%,  prior approval of RBI will be \\nrequired to increase it to 5% or more of \\nthe paid -up share capital or voting \\nrights of KVB.  \\n• KVB, meanwhile, announced the opening \\nof four branches, of which three are in \\nTamil Nadu and one in Bengaluru. With \\nthis, the total number of branches has \\nincreased to 831.  \\n3. Bank lending to pvt corporate rises 14.9 pc \\nin Sep: RBI data  \\n• Bank lending to the private corporate \\nsector grew 14.9 per cent in September \\n2023 from 14.7 per cent  a year ago, \\naccording to the Reserve Bank data.  \\n• Another set of banking data released by \\nthe central bank showed the share of \\nterm deposits bearing a 6 to 8 per cent \\ninterest rate rose to 78.6 per cent in \\nSeptember 2023 against 12.5 per cent in \\nMarch 2022.  \\n• According to data on outstanding credit \\nof banks at September -end 2023, loans \\nto industry accounted for nearly one -\\nfourth of total bank credit; they \\nincreased by 8.6 per cent (year -on-year) \\nin September 2023 (against 12.3 per \\ncent a year ago); working capi tal loans \\ngrowth has remained in double digits for \\nthe last six quarters.  \\n  \\n3\", metadata={'source': 'C:/Users/rakshita_arora/Downloads/December_2023_Bolt.pdf', 'page': 2}),\n",
       " Document(page_content=\"www.oliveboard.in  \\nwww.oliveboard.in  \\n4. RBI says 97.26% of Rs 2000 notes back in \\nthe system  \\n• The Reserve Bank of India (RBI) on \\nDecember 1 said 97.26 percent of the \\nRs2000 banknotes in circulation as on \\nMay 19, 2023, has been returned to the \\nbanking system.  \\n• The total value of Rs2000 banknotes in \\ncirculation, which amounted to Rs3.56 \\nlakh crore as at the close of business on \\nMay 19, 2023 when the withdrawal of \\nRs2000 banknotes was announced, has \\ndeclined to Rs9,760 crore as at the close \\nof business on November  30, 2023, the \\nRBI said in a statement.  \\n• The RBI had announced the withdrawal \\nof Rs2000 denomination banknotes \\nfrom circulation   on May 19, 2023 as \\npart of the central bank's clean note \\npolicy.  \\n• The facility for deposit and exchange of \\nthe Rs 2000 banknotes was available at \\nall bank branches in the country initially \\nupto September 30, 2023, which was \\nlater extended upto October 07, 2023  \\n5. TSI bags '200 cr via credit fund  \\n• Piramal Alternatives and CDPQ -backed \\nperforming credit fund have agreed to \\nextend a '200 crore sum to ATM \\n(automated teller machines) operator \\nTransaction Solutions International \\n(India) Pvt Ltd (TSI) in a structured credit \\ntransaction.  \\n• The capital, raised against convertible \\nsecurities, will help with TSI's business \\nexpansion initiatives and accelerate its \\nATM deployment.  \\n6. RBI, Bank of England sign MoU on co -\\noperation and information exchange related \\nto CCIL  • In a tactical move that could encourage \\nthe European Securities and Markets \\nAuthority (ESMA) to restore recognition \\nto at least one of the Indian central \\ncounterparties (CCPs), the Reserve Bank \\nof India (RBI) and the Bank of England \\n(BoE) signed a Memorandum of \\nUnderstanding (MoU) for cooperation \\nand exchange of information in relation \\nto the Clearing Corporation.  \\n• The MoU establishes a framework for \\nthe BoE to place reliance on the RBI’s \\nregulatory and supervisory activities \\nwhile safeguarding UK financial stability.  \\n7. RBI imposes monetary penalty on four co -\\noperative banks  \\n• The Reserve Bank of India (RBI) has \\nimposed monetary penalties on four co -\\noperative banks for deficiencies in \\nregulatory compliance.  \\n• These co -operative banks are: Jijamata \\nMahila Sahakari Bank Ltd, Shri \\nLaxmikrupa Urban Co -operative Bank \\nLtd, The Konark Urban Cooperative \\nBank Ltd and The Chembur Nagarik \\nSahakari Bank Ltd.  \\n• These penalties have been imposed in \\nthe exercise of powers conferred on RBI \\nunder certain provisions of the Banking \\nRegulation Act, 1949, the banking \\nregulator said.  \\n8. RBI cancels licence of Kolhapur -based \\nShankarrao Pujari Nutan Nagari Sahakari Bank  \\n• Shankarrao Pujari Nutan Nagari \\nSahakari Bank Limited, Ichalkaranji, \\nKolhapur is prohibited from conducting \\nthe business of 'banking' which \\nincludes, among other things, \\nacceptance of deposits and repayment \\nof deposits as defined in Section 5(b) \\nread with S ection 56 of the Banking \\n4\", metadata={'source': 'C:/Users/rakshita_arora/Downloads/December_2023_Bolt.pdf', 'page': 3})]"
      ]
     },
     "execution_count": 78,
     "metadata": {},
     "output_type": "execute_result"
    }
   ],
   "source": [
    "documents"
   ]
  },
  {
   "cell_type": "code",
   "execution_count": 79,
   "id": "249d841a",
   "metadata": {},
   "outputs": [
    {
     "name": "stderr",
     "output_type": "stream",
     "text": [
      "\r",
      "  0%|                                                                                            | 0/4 [00:00<?, ?it/s]"
     ]
    },
    {
     "name": "stdout",
     "output_type": "stream",
     "text": [
      "nodes=[Node(id='Oliveboard', type='Organization', properties={'name': 'Oliveboard'})] relationships=[] source=Document(page_content='oliv ebo a r d.in uick revisionCLICK HERE TO PREPARE FOR \\nIBPS, SSC, SBI, RAILWAYS & RBI EXAMS IN ONE PLACE\\nBolt is a series of GK Summary ebooks by  Oliveboard  for q\\noliveboard\\nNow with\\nIn-depth\\nCoverageDecember 2023\\nMonthly Current Affairs', metadata={'source': 'C:/Users/rakshita_arora/Downloads/December_2023_Bolt.pdf', 'page': 0})\n"
     ]
    },
    {
     "name": "stderr",
     "output_type": "stream",
     "text": [
      "\r",
      " 25%|█████████████████████                                                               | 1/4 [00:01<00:04,  1.65s/it]"
     ]
    },
    {
     "name": "stdout",
     "output_type": "stream",
     "text": [
      "nodes=[Node(id='Www.Oliveboard.In', type='Website', properties={'name': 'Www.Oliveboard.In'}), Node(id='Banking & Finance', type='Category', properties={'name': 'Banking & Finance'}), Node(id='Economy', type='Category', properties={'name': 'Economy'}), Node(id='National', type='Category', properties={'name': 'National'}), Node(id='International', type='Category', properties={'name': 'International'}), Node(id='Sports', type='Category', properties={'name': 'Sports'}), Node(id='Agreements & Mous', type='Category', properties={'name': 'Agreements & Mous'}), Node(id='Schemes', type='Category', properties={'name': 'Schemes'}), Node(id='Appointments & Resignations', type='Category', properties={'name': 'Appointments & Resignations'}), Node(id='Awards', type='Category', properties={'name': 'Awards'}), Node(id='Ranks & Reports', type='Category', properties={'name': 'Ranks & Reports'}), Node(id='Important Days', type='Category', properties={'name': 'Important Days'}), Node(id='Summit & Conferences', type='Category', properties={'name': 'Summit & Conferences'}), Node(id='Science & Technology', type='Category', properties={'name': 'Science & Technology'}), Node(id='Defence', type='Category', properties={'name': 'Defence'}), Node(id='Books & Authors', type='Category', properties={'name': 'Books & Authors'}), Node(id='Miscellaneous', type='Category', properties={'name': 'Miscellaneous'}), Node(id='Obituary', type='Category', properties={'name': 'Obituary'}), Node(id='Person In News', type='Category', properties={'name': 'Person In News'}), Node(id='Insurance', type='Category', properties={'name': 'Insurance'}), Node(id='India & World', type='Category', properties={'name': 'India & World'}), Node(id='Environment', type='Category', properties={'name': 'Environment'}), Node(id='Apps & Portals', type='Category', properties={'name': 'Apps & Portals'}), Node(id='Acquisitions & Mergers', type='Category', properties={'name': 'Acquisitions & Mergers'}), Node(id='Agri-Business', type='Category', properties={'name': 'Agri-Business'}), Node(id='External Affairs', type='Category', properties={'name': 'External Affairs'}), Node(id='Fintech', type='Category', properties={'name': 'Fintech'}), Node(id='States/Uts', type='Category', properties={'name': 'States/Uts'})] relationships=[] source=Document(page_content='www.oliveboard.in  \\nwww.oliveboard.in  \\nTable of Contents  \\nBanking & Finance  ................................ ................................ ................................ ..................  3 \\nEconomy  ................................ ................................ ................................ ...............................  15 \\nNational  ................................ ................................ ................................ ................................  24 \\nInternational  ................................ ................................ ................................ ........................  36 \\nSports  ................................ ................................ ................................ ................................ ... 41 \\nAgreements & MoUs  ................................ ................................ ................................ ............  48 \\nSchemes  ................................ ................................ ................................ ...............................  59 \\nAppointments & Resignations  ................................ ................................ .............................  66 \\nAwards  ................................ ................................ ................................ ................................ . 70 \\nRanks & Reports  ................................ ................................ ................................ ...................  79 \\nImportant Days  ................................ ................................ ................................ ....................  89 \\nSummit & Conferences ................................ ................................ ................................ .........  94 \\nScience & Technology ................................ ................................ ................................ ...........  97 \\nDefence  ................................ ................................ ................................ ..............................  102 \\nBooks & Authors  ................................ ................................ ................................ ................  107 \\nMiscellaneous  ................................ ................................ ................................ ....................  108 \\nObituary  ................................ ................................ ................................ .............................  109 \\nPerson in news  ................................ ................................ ................................ ...................  111 \\nInsurance  ................................ ................................ ................................ ............................  113 \\nIndia & World  ................................ ................................ ................................ .....................  115 \\nEnvironment  ................................ ................................ ................................ .......................  120 \\nApps & Portals  ................................ ................................ ................................ ....................  120 \\nAcquisitions & Mergers  ................................ ................................ ................................ ...... 121 \\nAgri-Business  ................................ ................................ ................................ ......................  124 \\nExternal Affairs  ................................ ................................ ................................ ...................  125 \\nFinTech  ................................ ................................ ................................ ...............................  126 \\nStates/UTs  ................................ ................................ ................................ ..........................  127 \\n2', metadata={'source': 'C:/Users/rakshita_arora/Downloads/December_2023_Bolt.pdf', 'page': 1})\n"
     ]
    },
    {
     "name": "stderr",
     "output_type": "stream",
     "text": [
      "\r",
      " 50%|██████████████████████████████████████████                                          | 2/4 [00:14<00:16,  8.02s/it]"
     ]
    },
    {
     "name": "stdout",
     "output_type": "stream",
     "text": [
      "nodes=[Node(id='Www.Oliveboard.In', type='Website', properties={'name': 'Www.Oliveboard.In'}), Node(id='Bank Of America', type='Bank', properties={'ceo': 'Brian Thomas Moynihan', 'name': 'Bank Of America'}), Node(id='Hdfc Bank', type='Bank', properties={'name': 'Hdfc Bank'}), Node(id='Rbi', type='Organization', properties={'name': 'Rbi'}), Node(id='Liberalised Remittance Scheme', type='Scheme', properties={'year': '1999', 'name': 'Liberalised Remittance Scheme'}), Node(id='Sbi Mutual Fund', type='Mutual fund', properties={'name': 'Sbi Mutual Fund'}), Node(id='Karur Vysya Bank', type='Bank', properties={'name': 'Karur Vysya Bank'})] relationships=[Relationship(source=Node(id='Rbi', type='Organization', properties={'name': 'Rbi'}), target=Node(id='Bank Of America', type='Bank', properties={'name': 'Bank Of America'}), type='imposes penalty', properties={'amount': 'Rs 10,000', 'violation': \"Reserve Bank of India's instructions on reporting requirements under Liberalised Remittance Scheme of FEMA 1999\"}), Relationship(source=Node(id='Rbi', type='Organization', properties={'name': 'Rbi'}), target=Node(id='Hdfc Bank', type='Bank', properties={'name': 'Hdfc Bank'}), type='imposes penalty', properties={'amount': 'Rs 10,000', 'violation': 'directions on acceptance of deposits from non-residents'}), Relationship(source=Node(id='Sbi Mutual Fund', type='Mutual fund', properties={'name': 'Sbi Mutual Fund'}), target=Node(id='Karur Vysya Bank', type='Bank', properties={'name': 'Karur Vysya Bank'}), type='acquires stake', properties={'percentage': '9.99%'})] source=Document(page_content=\"www.oliveboard.in  \\nwww.oliveboard.in  \\nBanking & Finance  \\n1. RBI Fines Bank Of America, N.A., HDFC Bank  \\n• RBI has imposed a penalty of Rs 10,000 \\neach on Bank of America, N.A. and \\nHDFC Bank Ltd for violation of certain \\nnorms.  \\n• The penalty on Bank of America, N.A. \\nhas been imposed for violation of \\nReserve Bank of India's instructions on \\nreporting requirements under \\nLiberalised Remittance Scheme of FEMA \\n1999 . \\n• Brian Thomas Moynihan, current \\nchairman and CEO of Bank of America.  \\n• The penalty on HDFC Bank is for \\nviolation of directions on acceptance of \\ndeposits from non -residents.  \\n• Besides, penalties have been imposed on \\nfive cooperative banks for non -\\ncompliance with various regulatory \\nnorms.  \\n• The cooperative banks which have been \\npenalised are  The Patliputra Central \\nCooperative Bank, Bihar; The Balasore \\nBhadrak Central Co -operative Bank, \\nOdisha; The Dhrangadhra People's Co -\\noperative Bank, Gujarat; Patan Nagarik \\nSahakari Bank Ltd., Patan, Gujarat; and \\nThe Mandal Nagarik Sahakari Bank, \\nGujarat.  \\n• In all cases, the RBI said the penalties are \\nbased on the deficiencies in regulatory \\ncompliance and is not intended to \\npronounce upon the validity of any \\ntransaction or agreement entered into \\nby entities with their customers.  \\n2. SBI MF gets RBI nod to buy 9.99% stake in \\nKarur Vysya Bank  \\n• The Reserve Bank has given its approval \\nto SBI Mutual Fund (SBI MF) for \\nacquiring up to 9.99%  of the paid -up share capital or voting rights of Karur \\nVysya Bank Ltd (KVB).  \\n• If SBI MF fails to acquire major \\nshareholding within a period of one year \\nfrom the date of RBI's letter, this \\napproval shall stand cancelled.  \\n• Besides, SBI MF must ensure that the \\naggregate holding in the bank does not \\nnot exceed 9.99% at all times.  \\n• Further, if the aggregate holding falls \\nbelow 5%,  prior approval of RBI will be \\nrequired to increase it to 5% or more of \\nthe paid -up share capital or voting \\nrights of KVB.  \\n• KVB, meanwhile, announced the opening \\nof four branches, of which three are in \\nTamil Nadu and one in Bengaluru. With \\nthis, the total number of branches has \\nincreased to 831.  \\n3. Bank lending to pvt corporate rises 14.9 pc \\nin Sep: RBI data  \\n• Bank lending to the private corporate \\nsector grew 14.9 per cent in September \\n2023 from 14.7 per cent  a year ago, \\naccording to the Reserve Bank data.  \\n• Another set of banking data released by \\nthe central bank showed the share of \\nterm deposits bearing a 6 to 8 per cent \\ninterest rate rose to 78.6 per cent in \\nSeptember 2023 against 12.5 per cent in \\nMarch 2022.  \\n• According to data on outstanding credit \\nof banks at September -end 2023, loans \\nto industry accounted for nearly one -\\nfourth of total bank credit; they \\nincreased by 8.6 per cent (year -on-year) \\nin September 2023 (against 12.3 per \\ncent a year ago); working capi tal loans \\ngrowth has remained in double digits for \\nthe last six quarters.  \\n  \\n3\", metadata={'source': 'C:/Users/rakshita_arora/Downloads/December_2023_Bolt.pdf', 'page': 2})\n"
     ]
    },
    {
     "name": "stderr",
     "output_type": "stream",
     "text": [
      "\r",
      " 75%|███████████████████████████████████████████████████████████████                     | 3/4 [00:21<00:07,  7.93s/it]"
     ]
    },
    {
     "name": "stdout",
     "output_type": "stream",
     "text": [
      "nodes=[Node(id='Www.Oliveboard.In', type='Website', properties={'name': 'Www.Oliveboard.In'}), Node(id='Rbi', type='Organization', properties={'name': 'Rbi'}), Node(id='Rs2000', type='Currency', properties={'name': 'Rs2000'}), Node(id='May 19, 2023', type='Date', properties={'name': 'May 19, 2023'}), Node(id='Rs3.56 Lakh Crore', type='Amount', properties={'name': 'Rs3.56 Lakh Crore'}), Node(id='November 30, 2023', type='Date', properties={'name': 'November 30, 2023'}), Node(id='Rs9,760 Crore', type='Amount', properties={'name': 'Rs9,760 Crore'}), Node(id='May 19, 2023', type='Date', properties={'name': 'May 19, 2023'}), Node(id='September 30, 2023', type='Date', properties={'name': 'September 30, 2023'}), Node(id='October 07, 2023', type='Date', properties={'name': 'October 07, 2023'}), Node(id='Tsi', type='Company', properties={'name': 'Tsi'}), Node(id='Piramal Alternatives', type='Company', properties={'name': 'Piramal Alternatives'}), Node(id='Cdpq', type='Organization', properties={'name': 'Cdpq'}), Node(id='Atm', type='Technology', properties={'name': 'Atm'}), Node(id='Transaction Solutions International (India) Pvt Ltd', type='Company', properties={'name': 'Transaction Solutions International (India) Pvt Ltd'}), Node(id='Rbi', type='Organization', properties={'name': 'Rbi'}), Node(id='Bank Of England', type='Organization', properties={'name': 'Bank Of England'}), Node(id='Esma', type='Organization', properties={'name': 'Esma'}), Node(id='Mou', type='Document', properties={'name': 'Mou'}), Node(id='Ccil', type='Organization', properties={'name': 'Ccil'}), Node(id='Rbi', type='Organization', properties={'name': 'Rbi'}), Node(id='Bank Of England', type='Organization', properties={'name': 'Bank Of England'}), Node(id='Rbi', type='Organization', properties={'name': 'Rbi'}), Node(id='Jijamata Mahila Sahakari Bank Ltd', type='Company', properties={'name': 'Jijamata Mahila Sahakari Bank Ltd'}), Node(id='Shri Laxmikrupa Urban Co-Operative Bank Ltd', type='Company', properties={'name': 'Shri Laxmikrupa Urban Co-Operative Bank Ltd'}), Node(id='The Konark Urban Cooperative Bank Ltd', type='Company', properties={'name': 'The Konark Urban Cooperative Bank Ltd'}), Node(id='The Chembur Nagarik Sahakari Bank Ltd', type='Company', properties={'name': 'The Chembur Nagarik Sahakari Bank Ltd'}), Node(id='Rbi', type='Organization', properties={'name': 'Rbi'}), Node(id='Kolhapur-Based Shankarrao Pujari Nutan Nagari Sahakari Bank', type='Company', properties={'name': 'Kolhapur-Based Shankarrao Pujari Nutan Nagari Sahakari Bank'})] relationships=[Relationship(source=Node(id='Www.Oliveboard.In', type='Website', properties={'name': 'Www.Oliveboard.In'}), target=Node(id='Rbi', type='Organization', properties={'name': 'Rbi'}), type='mentioned_in'), Relationship(source=Node(id='Rbi', type='Organization', properties={'name': 'Rbi'}), target=Node(id='Rs2000', type='Currency', properties={'name': 'Rs2000'}), type='mentioned_in'), Relationship(source=Node(id='Rbi', type='Organization', properties={'name': 'Rbi'}), target=Node(id='May 19, 2023', type='Date', properties={'name': 'May 19, 2023'}), type='mentioned_in'), Relationship(source=Node(id='Rs2000', type='Currency', properties={'name': 'Rs2000'}), target=Node(id='Rbi', type='Organization', properties={'name': 'Rbi'}), type='mentioned_in'), Relationship(source=Node(id='Rs2000', type='Currency', properties={'name': 'Rs2000'}), target=Node(id='Rs3.56 Lakh Crore', type='Amount', properties={'name': 'Rs3.56 Lakh Crore'}), type='amount_in_circulation'), Relationship(source=Node(id='Rs2000', type='Currency', properties={'name': 'Rs2000'}), target=Node(id='November 30, 2023', type='Date', properties={'name': 'November 30, 2023'}), type='mentioned_in'), Relationship(source=Node(id='Rs2000', type='Currency', properties={'name': 'Rs2000'}), target=Node(id='Rs9,760 Crore', type='Amount', properties={'name': 'Rs9,760 Crore'}), type='amount_in_circulation'), Relationship(source=Node(id='Rbi', type='Organization', properties={'name': 'Rbi'}), target=Node(id='May 19, 2023', type='Date', properties={'name': 'May 19, 2023'}), type='withdrawal_announcement'), Relationship(source=Node(id='Rbi', type='Organization', properties={'name': 'Rbi'}), target=Node(id='September 30, 2023', type='Date', properties={'name': 'September 30, 2023'}), type='deposit_exchange_facility'), Relationship(source=Node(id='Rbi', type='Organization', properties={'name': 'Rbi'}), target=Node(id='October 07, 2023', type='Date', properties={'name': 'October 07, 2023'}), type='deposit_exchange_facility'), Relationship(source=Node(id='Tsi', type='Company', properties={'name': 'Tsi'}), target=Node(id='Piramal Alternatives', type='Company', properties={'name': 'Piramal Alternatives'}), type='backed_by'), Relationship(source=Node(id='Tsi', type='Company', properties={'name': 'Tsi'}), target=Node(id='Cdpq', type='Organization', properties={'name': 'Cdpq'}), type='backed_by'), Relationship(source=Node(id='Tsi', type='Company', properties={'name': 'Tsi'}), target=Node(id='Atm', type='Technology', properties={'name': 'Atm'}), type='utilizes'), Relationship(source=Node(id='Tsi', type='Company', properties={'name': 'Tsi'}), target=Node(id='Transaction Solutions International (India) Pvt Ltd', type='Company', properties={'name': 'Transaction Solutions International (India) Pvt Ltd'}), type='mentioned_in'), Relationship(source=Node(id='Rbi', type='Organization', properties={'name': 'Rbi'}), target=Node(id='Bank Of England', type='Organization', properties={'name': 'Bank Of England'}), type='signed_mou'), Relationship(source=Node(id='Rbi', type='Organization', properties={'name': 'Rbi'}), target=Node(id='Esma', type='Organization', properties={'name': 'Esma'}), type='encourages_recognition'), Relationship(source=Node(id='Rbi', type='Organization', properties={'name': 'Rbi'}), target=Node(id='Mou', type='Document', properties={'name': 'Mou'}), type='signed_mou'), Relationship(source=Node(id='Rbi', type='Organization', properties={'name': 'Rbi'}), target=Node(id='Ccil', type='Organization', properties={'name': 'Ccil'}), type='mentioned_in'), Relationship(source=Node(id='Rbi', type='Organization', properties={'name': 'Rbi'}), target=Node(id='Bank Of England', type='Organization', properties={'name': 'Bank Of England'}), type='mentioned_in'), Relationship(source=Node(id='Rbi', type='Organization', properties={'name': 'Rbi'}), target=Node(id='Rbi', type='Organization', properties={'name': 'Rbi'}), type='mentioned_in'), Relationship(source=Node(id='Rbi', type='Organization', properties={'name': 'Rbi'}), target=Node(id='Jijamata Mahila Sahakari Bank Ltd', type='Company', properties={'name': 'Jijamata Mahila Sahakari Bank Ltd'}), type='imposes_penalty'), Relationship(source=Node(id='Rbi', type='Organization', properties={'name': 'Rbi'}), target=Node(id='Shri Laxmikrupa Urban Co-Operative Bank Ltd', type='Company', properties={'name': 'Shri Laxmikrupa Urban Co-Operative Bank Ltd'}), type='imposes_penalty'), Relationship(source=Node(id='Rbi', type='Organization', properties={'name': 'Rbi'}), target=Node(id='The Konark Urban Cooperative Bank Ltd', type='Company', properties={'name': 'The Konark Urban Cooperative Bank Ltd'}), type='imposes_penalty'), Relationship(source=Node(id='Rbi', type='Organization', properties={'name': 'Rbi'}), target=Node(id='The Chembur Nagarik Sahakari Bank Ltd', type='Company', properties={'name': 'The Chembur Nagarik Sahakari Bank Ltd'}), type='imposes_penalty'), Relationship(source=Node(id='Rbi', type='Organization', properties={'name': 'Rbi'}), target=Node(id='Kolhapur-Based Shankarrao Pujari Nutan Nagari Sahakari Bank', type='Company', properties={'name': 'Kolhapur-Based Shankarrao Pujari Nutan Nagari Sahakari Bank'}), type='cancels_license')] source=Document(page_content=\"www.oliveboard.in  \\nwww.oliveboard.in  \\n4. RBI says 97.26% of Rs 2000 notes back in \\nthe system  \\n• The Reserve Bank of India (RBI) on \\nDecember 1 said 97.26 percent of the \\nRs2000 banknotes in circulation as on \\nMay 19, 2023, has been returned to the \\nbanking system.  \\n• The total value of Rs2000 banknotes in \\ncirculation, which amounted to Rs3.56 \\nlakh crore as at the close of business on \\nMay 19, 2023 when the withdrawal of \\nRs2000 banknotes was announced, has \\ndeclined to Rs9,760 crore as at the close \\nof business on November  30, 2023, the \\nRBI said in a statement.  \\n• The RBI had announced the withdrawal \\nof Rs2000 denomination banknotes \\nfrom circulation   on May 19, 2023 as \\npart of the central bank's clean note \\npolicy.  \\n• The facility for deposit and exchange of \\nthe Rs 2000 banknotes was available at \\nall bank branches in the country initially \\nupto September 30, 2023, which was \\nlater extended upto October 07, 2023  \\n5. TSI bags '200 cr via credit fund  \\n• Piramal Alternatives and CDPQ -backed \\nperforming credit fund have agreed to \\nextend a '200 crore sum to ATM \\n(automated teller machines) operator \\nTransaction Solutions International \\n(India) Pvt Ltd (TSI) in a structured credit \\ntransaction.  \\n• The capital, raised against convertible \\nsecurities, will help with TSI's business \\nexpansion initiatives and accelerate its \\nATM deployment.  \\n6. RBI, Bank of England sign MoU on co -\\noperation and information exchange related \\nto CCIL  • In a tactical move that could encourage \\nthe European Securities and Markets \\nAuthority (ESMA) to restore recognition \\nto at least one of the Indian central \\ncounterparties (CCPs), the Reserve Bank \\nof India (RBI) and the Bank of England \\n(BoE) signed a Memorandum of \\nUnderstanding (MoU) for cooperation \\nand exchange of information in relation \\nto the Clearing Corporation.  \\n• The MoU establishes a framework for \\nthe BoE to place reliance on the RBI’s \\nregulatory and supervisory activities \\nwhile safeguarding UK financial stability.  \\n7. RBI imposes monetary penalty on four co -\\noperative banks  \\n• The Reserve Bank of India (RBI) has \\nimposed monetary penalties on four co -\\noperative banks for deficiencies in \\nregulatory compliance.  \\n• These co -operative banks are: Jijamata \\nMahila Sahakari Bank Ltd, Shri \\nLaxmikrupa Urban Co -operative Bank \\nLtd, The Konark Urban Cooperative \\nBank Ltd and The Chembur Nagarik \\nSahakari Bank Ltd.  \\n• These penalties have been imposed in \\nthe exercise of powers conferred on RBI \\nunder certain provisions of the Banking \\nRegulation Act, 1949, the banking \\nregulator said.  \\n8. RBI cancels licence of Kolhapur -based \\nShankarrao Pujari Nutan Nagari Sahakari Bank  \\n• Shankarrao Pujari Nutan Nagari \\nSahakari Bank Limited, Ichalkaranji, \\nKolhapur is prohibited from conducting \\nthe business of 'banking' which \\nincludes, among other things, \\nacceptance of deposits and repayment \\nof deposits as defined in Section 5(b) \\nread with S ection 56 of the Banking \\n4\", metadata={'source': 'C:/Users/rakshita_arora/Downloads/December_2023_Bolt.pdf', 'page': 3})\n"
     ]
    },
    {
     "name": "stderr",
     "output_type": "stream",
     "text": [
      "100%|████████████████████████████████████████████████████████████████████████████████████| 4/4 [00:56<00:00, 14.05s/it]\n"
     ]
    }
   ],
   "source": [
    "from tqdm import tqdm\n",
    "\n",
    "for i, d in tqdm(enumerate(documents), total=len(documents)):\n",
    "    graph_document=extract_and_store_graph(d)"
   ]
  },
  {
   "cell_type": "code",
   "execution_count": 80,
   "id": "2f53cd9e",
   "metadata": {},
   "outputs": [
    {
     "data": {
      "text/plain": [
       "29"
      ]
     },
     "execution_count": 80,
     "metadata": {},
     "output_type": "execute_result"
    }
   ],
   "source": [
    "# Number of nodes\n",
    "print(len(graph_document.nodes))"
   ]
  },
  {
   "cell_type": "code",
   "execution_count": 81,
   "id": "14e0e086",
   "metadata": {},
   "outputs": [
    {
     "data": {
      "text/plain": [
       "25"
      ]
     },
     "execution_count": 81,
     "metadata": {},
     "output_type": "execute_result"
    }
   ],
   "source": [
    "#Number or Relationships\n",
    "print(len(graph_document.relationships))"
   ]
  },
  {
   "cell_type": "markdown",
   "id": "5d488dba",
   "metadata": {},
   "source": [
    "Reference Document: https://bratanic-tomaz.medium.com/constructing-knowledge-graphs-from-text-using-openai-functions-096a6d010c17"
   ]
  },
  {
   "cell_type": "code",
   "execution_count": null,
   "id": "a0134276",
   "metadata": {},
   "outputs": [],
   "source": []
  }
 ],
 "metadata": {
  "kernelspec": {
   "display_name": "neo-genai",
   "language": "python",
   "name": "neo-genai"
  },
  "language_info": {
   "codemirror_mode": {
    "name": "ipython",
    "version": 3
   },
   "file_extension": ".py",
   "mimetype": "text/x-python",
   "name": "python",
   "nbconvert_exporter": "python",
   "pygments_lexer": "ipython3",
   "version": "3.9.18"
  }
 },
 "nbformat": 4,
 "nbformat_minor": 5
}
