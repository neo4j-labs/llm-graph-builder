{
 "cells": [
  {
   "cell_type": "code",
   "execution_count": null,
   "id": "05f70a00-3875-4bd1-baf4-fbf47c2528e6",
   "metadata": {},
   "outputs": [],
   "source": [
    "%pip install neo4j-driver"
   ]
  },
  {
   "cell_type": "markdown",
   "id": "d7965b78-6c75-4225-819b-41f48f8420f0",
   "metadata": {},
   "source": [
    "##### Dataset\n",
    "The original dataset can be found in \"https://github.com/krlawrence/graph\""
   ]
  },
  {
   "cell_type": "code",
   "execution_count": 1,
   "id": "a73ae177-b71d-4874-9e92-d2b02305467e",
   "metadata": {},
   "outputs": [],
   "source": [
    "#import libraries\n",
    "from neo4j import GraphDatabase, basic_auth\n",
    "import pandas as pd"
   ]
  },
  {
   "cell_type": "code",
   "execution_count": 6,
   "id": "bd1aceef-c494-497b-9fb7-ef2f318b4c66",
   "metadata": {},
   "outputs": [],
   "source": [
    "#define sandbox credentials\n",
    "uri= \"bolt://3.87.55.10:7687\"\n",
    "pwd = \"rains-adaption-figure\""
   ]
  },
  {
   "cell_type": "code",
   "execution_count": 7,
   "id": "3e699585-56a5-4fa0-936b-384048371c46",
   "metadata": {},
   "outputs": [
    {
     "data": {
      "text/plain": [
       "<neo4j._sync.driver.BoltDriver at 0x1af65e33a00>"
      ]
     },
     "execution_count": 7,
     "metadata": {},
     "output_type": "execute_result"
    }
   ],
   "source": [
    "#establish connection to the Graph Database\n",
    "driver = GraphDatabase.driver(uri, auth=basic_auth(\"neo4j\", pwd))\n",
    "driver"
   ]
  },
  {
   "cell_type": "code",
   "execution_count": 8,
   "id": "4668d19d",
   "metadata": {},
   "outputs": [
    {
     "name": "stdout",
     "output_type": "stream",
     "text": [
      "Node Labels: ['Airport', 'City', 'Region', 'Country', 'Continent']\n"
     ]
    }
   ],
   "source": [
    "# Function to execute the query and return the results\n",
    "def execute_query(driver, query):\n",
    "    with driver.session() as session:\n",
    "        result = session.run(query)\n",
    "        # Extract the results as a list of dictionaries\n",
    "        data = [record[\"label\"] for record in result]\n",
    "    return data\n",
    "\n",
    "# Execute the query\n",
    "node_labels = execute_query(driver, query = 'CALL db.labels()')\n",
    "\n",
    "# Print the results\n",
    "print(\"Node Labels:\", node_labels)"
   ]
  },
  {
   "cell_type": "code",
   "execution_count": 9,
   "id": "6afef481",
   "metadata": {},
   "outputs": [
    {
     "name": "stdout",
     "output_type": "stream",
     "text": [
      "Relationship Types: ['IN_CITY', 'IN_COUNTRY', 'IN_REGION', 'ON_CONTINENT', 'HAS_ROUTE']\n"
     ]
    }
   ],
   "source": [
    "# Function to execute the query and return the results\n",
    "def execute_query(driver, query):\n",
    "    with driver.session() as session:\n",
    "        result = session.run(query)\n",
    "        data = [record[\"relationshipType\"] for record in result]\n",
    "    return data\n",
    "\n",
    "relationship_types = execute_query(driver, query = 'CALL db.relationshipTypes()')\n",
    "# Print the results\n",
    "print(\"Relationship Types:\", relationship_types)"
   ]
  },
  {
   "cell_type": "code",
   "execution_count": null,
   "id": "60020734-eae7-41a6-b93f-816d5753d6f5",
   "metadata": {},
   "outputs": [],
   "source": []
  },
  {
   "cell_type": "code",
   "execution_count": 10,
   "id": "ddb198d7-e339-463d-9a70-87b4ceec3b40",
   "metadata": {},
   "outputs": [],
   "source": [
    "# Initialize an empty list to store the results\n",
    "data = []"
   ]
  },
  {
   "cell_type": "code",
   "execution_count": null,
   "id": "ba056a30-03a1-46f7-af41-6885a6d06d8b",
   "metadata": {},
   "outputs": [],
   "source": []
  },
  {
   "cell_type": "code",
   "execution_count": 11,
   "id": "2201add6-c391-4917-bcdd-901c186f1a65",
   "metadata": {},
   "outputs": [],
   "source": [
    "#Query the number of nodes\n",
    "query = \"MATCH (n) RETURN COUNT(n)\""
   ]
  },
  {
   "cell_type": "code",
   "execution_count": 12,
   "id": "03fad21c-8ee1-4a1e-9671-183a26880bf3",
   "metadata": {},
   "outputs": [
    {
     "name": "stdout",
     "output_type": "stream",
     "text": [
      "<Record COUNT(n)=8627>\n"
     ]
    }
   ],
   "source": [
    "with driver.session() as session:\n",
    "    result = session.run(query)\n",
    "    print(result.single())"
   ]
  },
  {
   "cell_type": "code",
   "execution_count": 13,
   "id": "f602fa3d-ebfb-4552-bb0f-2e3ea96c5234",
   "metadata": {},
   "outputs": [
    {
     "name": "stdout",
     "output_type": "stream",
     "text": [
      "8627\n"
     ]
    }
   ],
   "source": [
    "with driver.session() as session:\n",
    "    result = session.run(query)\n",
    "    print(result.single()[\"COUNT(n)\"])"
   ]
  },
  {
   "cell_type": "code",
   "execution_count": 14,
   "id": "beddbec3-c3a7-4b96-90dd-9b77af73126d",
   "metadata": {},
   "outputs": [
    {
     "name": "stdout",
     "output_type": "stream",
     "text": [
      "Number of Nodes: 8627\n"
     ]
    }
   ],
   "source": [
    "with driver.session() as session:\n",
    "    result = session.run(query)\n",
    "    count = result.single()[\"COUNT(n)\"]\n",
    "    data.append({\"Entity\": \"Nodes\", \"Count\": count})\n",
    "    print(f'Number of Nodes: {count}')"
   ]
  },
  {
   "cell_type": "code",
   "execution_count": null,
   "id": "81d78ca4-af2d-40a7-944d-0a9a0d5e26d8",
   "metadata": {},
   "outputs": [],
   "source": []
  },
  {
   "cell_type": "code",
   "execution_count": 15,
   "id": "cbc630ee-cf3e-4b93-b2e8-c88cc8c0f886",
   "metadata": {},
   "outputs": [],
   "source": [
    "# Query number of Country nodes\n",
    "query = \"MATCH (n:Country) RETURN COUNT(n)\""
   ]
  },
  {
   "cell_type": "code",
   "execution_count": 16,
   "id": "74732f50-36fb-47ee-86c5-3e4289f805b2",
   "metadata": {},
   "outputs": [
    {
     "name": "stdout",
     "output_type": "stream",
     "text": [
      "<Record COUNT(n)=232>\n"
     ]
    }
   ],
   "source": [
    "with driver.session() as session:\n",
    "    result = session.run(query)\n",
    "    # Get the single result record\n",
    "    print(result.single())"
   ]
  },
  {
   "cell_type": "code",
   "execution_count": 17,
   "id": "84940294-db40-488e-ab5b-55c101f9b417",
   "metadata": {},
   "outputs": [
    {
     "name": "stdout",
     "output_type": "stream",
     "text": [
      "232\n"
     ]
    }
   ],
   "source": [
    "with driver.session() as session:\n",
    "    result = session.run(query)\n",
    "    # Get the single result record\n",
    "    print(result.single()[\"COUNT(n)\"])"
   ]
  },
  {
   "cell_type": "code",
   "execution_count": 18,
   "id": "085aa6b6-f974-4553-9402-acee0e959fb5",
   "metadata": {},
   "outputs": [
    {
     "name": "stdout",
     "output_type": "stream",
     "text": [
      "Number of countries: 232\n"
     ]
    }
   ],
   "source": [
    "with driver.session() as session:\n",
    "    result = session.run(query)\n",
    "    count = result.single()[\"COUNT(n)\"]\n",
    "    data.append({\"Entity\": \"Countries\", \"Count\": count})\n",
    "    print(f'Number of countries: {count}')"
   ]
  },
  {
   "cell_type": "code",
   "execution_count": null,
   "id": "8f55832c-b8fc-47cc-b330-e9d77d538c01",
   "metadata": {},
   "outputs": [],
   "source": []
  },
  {
   "cell_type": "code",
   "execution_count": 19,
   "id": "39cf86df-7309-4c57-9b73-4399954a1b40",
   "metadata": {},
   "outputs": [],
   "source": [
    "# Query number of Airports\n",
    "query = \"MATCH (n:Airport) RETURN COUNT(n)\""
   ]
  },
  {
   "cell_type": "code",
   "execution_count": 20,
   "id": "3cae34ae-00cb-4f0a-9ea5-5bbe36f8e769",
   "metadata": {},
   "outputs": [
    {
     "name": "stdout",
     "output_type": "stream",
     "text": [
      "Number of Airports: 3503\n"
     ]
    }
   ],
   "source": [
    "with driver.session() as session:\n",
    "    result = session.run(query)\n",
    "    count = result.single()[\"COUNT(n)\"]\n",
    "    data.append({\"Entity\": \"Airports\", \"Count\": count})\n",
    "    print(f'Number of Airports: {count}')"
   ]
  },
  {
   "cell_type": "code",
   "execution_count": null,
   "id": "09f29d7a-81e3-4f4b-9359-8f60555b8c2e",
   "metadata": {},
   "outputs": [],
   "source": []
  },
  {
   "cell_type": "code",
   "execution_count": 21,
   "id": "134b6489-032a-4515-8334-babcec66b7d1",
   "metadata": {},
   "outputs": [],
   "source": [
    "# Query number of Cities\n",
    "query = \"MATCH (n:City) RETURN COUNT(n)\""
   ]
  },
  {
   "cell_type": "code",
   "execution_count": 22,
   "id": "519be579-6af9-4ff4-85b1-5ca85077a577",
   "metadata": {},
   "outputs": [
    {
     "name": "stdout",
     "output_type": "stream",
     "text": [
      "Number of Cities: 3359\n"
     ]
    }
   ],
   "source": [
    "with driver.session() as session:\n",
    "    result = session.run(query)\n",
    "    count = result.single()[\"COUNT(n)\"]\n",
    "    data.append({\"Entity\": \"Cities\", \"Count\": count})\n",
    "    print(f'Number of Cities: {count}')"
   ]
  },
  {
   "cell_type": "code",
   "execution_count": null,
   "id": "373b7282-c20d-45f2-b045-f9eef5a9092a",
   "metadata": {},
   "outputs": [],
   "source": []
  },
  {
   "cell_type": "code",
   "execution_count": 23,
   "id": "0fac9057-a2cb-400e-80b6-54f698e1f620",
   "metadata": {},
   "outputs": [],
   "source": [
    "# Query number of Regions\n",
    "query = \"MATCH (n:Region) RETURN COUNT(n)\""
   ]
  },
  {
   "cell_type": "code",
   "execution_count": 24,
   "id": "db123ed4-daf0-4cfa-addb-1b1dcac7c05c",
   "metadata": {},
   "outputs": [
    {
     "name": "stdout",
     "output_type": "stream",
     "text": [
      "Number of Regions: 1527\n"
     ]
    }
   ],
   "source": [
    "with driver.session() as session:\n",
    "    result = session.run(query)\n",
    "    count = result.single()[\"COUNT(n)\"]\n",
    "    data.append({\"Entity\": \"Regions\", \"Count\": count})\n",
    "    print(f'Number of Regions: {count}')"
   ]
  },
  {
   "cell_type": "code",
   "execution_count": null,
   "id": "57c6f617-500d-44e3-8fc0-0f7bd8d416fd",
   "metadata": {},
   "outputs": [],
   "source": []
  },
  {
   "cell_type": "code",
   "execution_count": 25,
   "id": "0d1128b1-b2cb-4e10-95f6-9f236e66e502",
   "metadata": {},
   "outputs": [],
   "source": [
    "# Query number of Continents\n",
    "query = \"MATCH (n:Continent) RETURN COUNT(n)\""
   ]
  },
  {
   "cell_type": "code",
   "execution_count": 26,
   "id": "4f91a9f4-c78b-42f3-b217-8e32e7f9062c",
   "metadata": {},
   "outputs": [
    {
     "name": "stdout",
     "output_type": "stream",
     "text": [
      "Number of Continents: 6\n"
     ]
    }
   ],
   "source": [
    "with driver.session() as session:\n",
    "    result = session.run(query)\n",
    "    count = result.single()[\"COUNT(n)\"]\n",
    "    data.append({\"Entity\": \"Continents\", \"Count\": count})\n",
    "    print(f'Number of Continents: {count}')"
   ]
  },
  {
   "cell_type": "code",
   "execution_count": null,
   "id": "326108cd-2fa8-47b9-99ac-916fdf7ca670",
   "metadata": {},
   "outputs": [],
   "source": []
  },
  {
   "cell_type": "code",
   "execution_count": 27,
   "id": "57b1eabc-5a34-47dd-86d0-d59d13532d94",
   "metadata": {},
   "outputs": [
    {
     "name": "stdout",
     "output_type": "stream",
     "text": [
      "       Entity  Count\n",
      "0       Nodes   8627\n",
      "1   Countries    232\n",
      "2    Airports   3503\n",
      "3      Cities   3359\n",
      "4     Regions   1527\n",
      "5  Continents      6\n"
     ]
    }
   ],
   "source": [
    "# Convert the list of results into a pandas DataFrame\n",
    "df = pd.DataFrame(data)\n",
    "\n",
    "# Print the DataFrame\n",
    "print(df)"
   ]
  },
  {
   "cell_type": "code",
   "execution_count": null,
   "id": "0a9c3266-c291-45ab-8006-72a66eba14db",
   "metadata": {},
   "outputs": [],
   "source": []
  },
  {
   "cell_type": "markdown",
   "id": "6eaee50a",
   "metadata": {},
   "source": [
    "Distribution of the number of airports per continent "
   ]
  },
  {
   "cell_type": "code",
   "execution_count": 28,
   "id": "320acff3",
   "metadata": {},
   "outputs": [
    {
     "data": {
      "text/plain": [
       "[{'continentName': 'NA', 'numAirports': 989},\n",
       " {'continentName': 'AS', 'numAirports': 971},\n",
       " {'continentName': 'EU', 'numAirports': 605},\n",
       " {'continentName': 'AF', 'numAirports': 321},\n",
       " {'continentName': 'SA', 'numAirports': 313},\n",
       " {'continentName': 'OC', 'numAirports': 304}]"
      ]
     },
     "execution_count": 28,
     "metadata": {},
     "output_type": "execute_result"
    }
   ],
   "source": [
    "# Define the Cypher query\n",
    "query = \"\"\"\n",
    "MATCH (:Airport)-[:ON_CONTINENT]->(c:Continent)\n",
    "RETURN c.name AS continentName, count(*) AS numAirports\n",
    "ORDER BY numAirports DESC\n",
    "\"\"\"\n",
    "\n",
    "# Function to execute the query and return the results\n",
    "def execute_query(driver, query):\n",
    "    with driver.session() as session:\n",
    "        result = session.run(query)\n",
    "        # Extract the results as a list of dictionaries\n",
    "        data = [{\"continentName\": record[\"continentName\"], \"numAirports\": record[\"numAirports\"]} for record in result]\n",
    "    return data\n",
    "\n",
    "# Execute the query\n",
    "results = execute_query(driver, query)\n",
    "results"
   ]
  },
  {
   "cell_type": "code",
   "execution_count": 29,
   "id": "8953f078-8a74-4a30-b3f0-5cc106d80281",
   "metadata": {},
   "outputs": [
    {
     "name": "stdout",
     "output_type": "stream",
     "text": [
      "  continentName  numAirports\n",
      "0            NA          989\n",
      "1            AS          971\n",
      "2            EU          605\n",
      "3            AF          321\n",
      "4            SA          313\n",
      "5            OC          304\n"
     ]
    }
   ],
   "source": [
    "# Convert the results to a DataFrame\n",
    "airports_df = pd.DataFrame(results)\n",
    "\n",
    "# Print the DataFrame\n",
    "print(airports_df)"
   ]
  },
  {
   "cell_type": "code",
   "execution_count": null,
   "id": "c1bbe97d-8f0d-415d-ad2b-b700c2694f05",
   "metadata": {},
   "outputs": [],
   "source": []
  },
  {
   "cell_type": "markdown",
   "id": "910a0710",
   "metadata": {},
   "source": [
    "Calculate the minimum, maximum, average, and standard deviation of the number of flights out of each airport."
   ]
  },
  {
   "cell_type": "code",
   "execution_count": 30,
   "id": "02fcca62",
   "metadata": {},
   "outputs": [],
   "source": [
    "# Define the Cypher query\n",
    "query = \"\"\"\n",
    "MATCH (a:Airport)-[:HAS_ROUTE]->(:Airport)\n",
    "WITH a, count(*) AS numberOfRoutes\n",
    "RETURN \n",
    "    min(numberOfRoutes) AS minRoutes, \n",
    "    max(numberOfRoutes) AS maxRoutes, \n",
    "    avg(numberOfRoutes) AS avgRoutes, \n",
    "    stdev(numberOfRoutes) AS stdDevRoutes\n",
    "\"\"\"\n",
    "\n",
    "# Function to execute the query and return the results\n",
    "def execute_query(driver, query):\n",
    "    with driver.session() as session:\n",
    "        result = session.run(query)\n",
    "        # Extract the results as a list of dictionaries\n",
    "        data = [record.data() for record in result]\n",
    "    return data\n",
    "\n",
    "# Execute the query\n",
    "results = execute_query(driver, query)"
   ]
  },
  {
   "cell_type": "code",
   "execution_count": 31,
   "id": "8d6a3527",
   "metadata": {},
   "outputs": [
    {
     "name": "stdout",
     "output_type": "stream",
     "text": [
      "   minRoutes  maxRoutes  avgRoutes  stdDevRoutes\n",
      "0          1        307  20.905363     38.287309\n"
     ]
    }
   ],
   "source": [
    "# Convert the results to a Pandas DataFrame\n",
    "df = pd.DataFrame(results)\n",
    "\n",
    "# Display the DataFrame\n",
    "print(df)"
   ]
  },
  {
   "cell_type": "code",
   "execution_count": null,
   "id": "ff445fae",
   "metadata": {},
   "outputs": [],
   "source": []
  },
  {
   "cell_type": "markdown",
   "id": "699401ab",
   "metadata": {},
   "source": [
    "Create Node Graph Projection"
   ]
  },
  {
   "cell_type": "code",
   "execution_count": 32,
   "id": "f4f25a0e",
   "metadata": {},
   "outputs": [],
   "source": [
    "query = \"\"\"\n",
    "CALL gds.graph.project(\n",
    "    'airportGraph',\n",
    "    'Airport',\n",
    "    {\n",
    "        HAS_ROUTE: {\n",
    "            type: 'HAS_ROUTE',\n",
    "            orientation: 'UNDIRECTED'\n",
    "        }\n",
    "    }\n",
    ")\n",
    "YIELD\n",
    "    graphName,\n",
    "    nodeProjection,\n",
    "    nodeCount,\n",
    "    relationshipProjection,\n",
    "    relationshipCount,\n",
    "    projectMillis\n",
    "\"\"\"\n"
   ]
  },
  {
   "cell_type": "code",
   "execution_count": 33,
   "id": "0cc1dedb",
   "metadata": {},
   "outputs": [
    {
     "data": {
      "text/html": [
       "<div>\n",
       "<style scoped>\n",
       "    .dataframe tbody tr th:only-of-type {\n",
       "        vertical-align: middle;\n",
       "    }\n",
       "\n",
       "    .dataframe tbody tr th {\n",
       "        vertical-align: top;\n",
       "    }\n",
       "\n",
       "    .dataframe thead th {\n",
       "        text-align: right;\n",
       "    }\n",
       "</style>\n",
       "<table border=\"1\" class=\"dataframe\">\n",
       "  <thead>\n",
       "    <tr style=\"text-align: right;\">\n",
       "      <th></th>\n",
       "      <th>graphName</th>\n",
       "      <th>nodeProjection</th>\n",
       "      <th>nodeCount</th>\n",
       "      <th>relationshipProjection</th>\n",
       "      <th>relationshipCount</th>\n",
       "      <th>projectMillis</th>\n",
       "    </tr>\n",
       "  </thead>\n",
       "  <tbody>\n",
       "    <tr>\n",
       "      <th>0</th>\n",
       "      <td>airportGraph</td>\n",
       "      <td>{'Airport': {'label': 'Airport', 'properties':...</td>\n",
       "      <td>3503</td>\n",
       "      <td>{'HAS_ROUTE': {'aggregation': 'DEFAULT', 'orie...</td>\n",
       "      <td>92778</td>\n",
       "      <td>9301</td>\n",
       "    </tr>\n",
       "  </tbody>\n",
       "</table>\n",
       "</div>"
      ],
      "text/plain": [
       "      graphName                                     nodeProjection  nodeCount  \\\n",
       "0  airportGraph  {'Airport': {'label': 'Airport', 'properties':...       3503   \n",
       "\n",
       "                              relationshipProjection  relationshipCount  \\\n",
       "0  {'HAS_ROUTE': {'aggregation': 'DEFAULT', 'orie...              92778   \n",
       "\n",
       "   projectMillis  \n",
       "0           9301  "
      ]
     },
     "execution_count": 33,
     "metadata": {},
     "output_type": "execute_result"
    }
   ],
   "source": [
    "def create_graph_projection(driver, query):\n",
    "    with driver.session() as session:\n",
    "        result = session.run(query)\n",
    "        return [record.data() for record in result]\n",
    "\n",
    "# Execute the query\n",
    "projection_results = create_graph_projection(driver, query)\n",
    "\n",
    "# Convert the results to a DataFrame\n",
    "projection_df = pd.DataFrame(projection_results)\n",
    "projection_df"
   ]
  },
  {
   "cell_type": "code",
   "execution_count": null,
   "id": "ce09116a",
   "metadata": {},
   "outputs": [],
   "source": []
  },
  {
   "cell_type": "markdown",
   "id": "cc8b98e7",
   "metadata": {},
   "source": [
    "Create Node Graph Projection"
   ]
  },
  {
   "cell_type": "code",
   "execution_count": 34,
   "id": "35662895",
   "metadata": {},
   "outputs": [],
   "source": [
    "# Define the Cypher query for graph projection\n",
    "query = \"\"\"\n",
    "CALL gds.graph.project(\n",
    "    'routes',\n",
    "    'Airport',\n",
    "    'HAS_ROUTE'\n",
    ")\n",
    "YIELD\n",
    "    graphName, nodeProjection, nodeCount, relationshipProjection, relationshipCount\n",
    "\"\"\"\n",
    "\n",
    "# query = \"\"\"\n",
    "# CALL gds.graph.project(\n",
    "#     'routes-airport',\n",
    "#     {\n",
    "#         Airport: {\n",
    "#             label: 'Airport',\n",
    "#             properties: ['iata', 'city']\n",
    "#         }\n",
    "#     },\n",
    "#     'HAS_ROUTE'\n",
    "# )\n",
    "# YIELD graphName, nodeCount, relationshipCount;\n",
    "# \"\"\"\n",
    "\n",
    "\n",
    "# Function to execute the query and return the results\n",
    "def create_graph_projection(driver, query):\n",
    "    with driver.session() as session:\n",
    "        result = session.run(query)\n",
    "        return [record.data() for record in result]\n",
    "\n",
    "# Execute the query\n",
    "projection_results = create_graph_projection(driver, query)"
   ]
  },
  {
   "cell_type": "code",
   "execution_count": 35,
   "id": "bf17b0ff",
   "metadata": {},
   "outputs": [
    {
     "data": {
      "text/html": [
       "<div>\n",
       "<style scoped>\n",
       "    .dataframe tbody tr th:only-of-type {\n",
       "        vertical-align: middle;\n",
       "    }\n",
       "\n",
       "    .dataframe tbody tr th {\n",
       "        vertical-align: top;\n",
       "    }\n",
       "\n",
       "    .dataframe thead th {\n",
       "        text-align: right;\n",
       "    }\n",
       "</style>\n",
       "<table border=\"1\" class=\"dataframe\">\n",
       "  <thead>\n",
       "    <tr style=\"text-align: right;\">\n",
       "      <th></th>\n",
       "      <th>graphName</th>\n",
       "      <th>nodeProjection</th>\n",
       "      <th>nodeCount</th>\n",
       "      <th>relationshipProjection</th>\n",
       "      <th>relationshipCount</th>\n",
       "    </tr>\n",
       "  </thead>\n",
       "  <tbody>\n",
       "    <tr>\n",
       "      <th>0</th>\n",
       "      <td>routes</td>\n",
       "      <td>{'Airport': {'label': 'Airport', 'properties':...</td>\n",
       "      <td>3503</td>\n",
       "      <td>{'HAS_ROUTE': {'aggregation': 'DEFAULT', 'orie...</td>\n",
       "      <td>46389</td>\n",
       "    </tr>\n",
       "  </tbody>\n",
       "</table>\n",
       "</div>"
      ],
      "text/plain": [
       "  graphName                                     nodeProjection  nodeCount                             relationshipProjection  relationshipCount\n",
       "0    routes  {'Airport': {'label': 'Airport', 'properties':...       3503  {'HAS_ROUTE': {'aggregation': 'DEFAULT', 'orie...              46389"
      ]
     },
     "execution_count": 35,
     "metadata": {},
     "output_type": "execute_result"
    }
   ],
   "source": [
    "# Convert the results to a DataFrame\n",
    "projection_df = pd.DataFrame(projection_results)\n",
    "\n",
    "# Adjust Pandas display\n",
    "pd.set_option('display.max_columns', None)\n",
    "pd.set_option('display.width', 500)        \n",
    "\n",
    "# Display the DataFrame\n",
    "projection_df"
   ]
  },
  {
   "cell_type": "code",
   "execution_count": 36,
   "id": "784f9434",
   "metadata": {},
   "outputs": [
    {
     "data": {
      "text/plain": [
       "{'Airport': {'label': 'Airport', 'properties': {}}}"
      ]
     },
     "execution_count": 36,
     "metadata": {},
     "output_type": "execute_result"
    }
   ],
   "source": [
    "node_projection = projection_df['nodeProjection'].iloc[0]\n",
    "node_projection"
   ]
  },
  {
   "cell_type": "code",
   "execution_count": 37,
   "id": "2d1a6824",
   "metadata": {},
   "outputs": [
    {
     "data": {
      "text/plain": [
       "{'HAS_ROUTE': {'aggregation': 'DEFAULT',\n",
       "  'orientation': 'NATURAL',\n",
       "  'indexInverse': False,\n",
       "  'properties': {},\n",
       "  'type': 'HAS_ROUTE'}}"
      ]
     },
     "execution_count": 37,
     "metadata": {},
     "output_type": "execute_result"
    }
   ],
   "source": [
    "relationship_projection = projection_df['relationshipProjection'].iloc[0]\n",
    "relationship_projection"
   ]
  },
  {
   "cell_type": "markdown",
   "id": "ea5f0867",
   "metadata": {},
   "source": [
    "List All Graphs"
   ]
  },
  {
   "cell_type": "code",
   "execution_count": 38,
   "id": "5c835ee4",
   "metadata": {},
   "outputs": [
    {
     "name": "stderr",
     "output_type": "stream",
     "text": [
      "Received notification from DBMS server: {severity: WARNING} {code: Neo.ClientNotification.Statement.FeatureDeprecationWarning} {category: DEPRECATION} {title: This feature is deprecated and will be removed in future versions.} {description: The query used a deprecated field from a procedure. ('schema' returned by 'gds.graph.list' is deprecated.)} {position: line: 2, column: 1, offset: 1} for query: '\\nCALL gds.graph.list()\\n'\n"
     ]
    }
   ],
   "source": [
    "# Define the Cypher query for listing GDS graphs\n",
    "query = \"\"\"\n",
    "CALL gds.graph.list()\n",
    "\"\"\"\n",
    "\n",
    "# Function to execute the query and return the results\n",
    "def list_gds_graphs(driver, query):\n",
    "    with driver.session() as session:\n",
    "        result = session.run(query)\n",
    "        return [record.data() for record in result]\n",
    "\n",
    "# Execute the query\n",
    "graph_list_results = list_gds_graphs(driver, query)"
   ]
  },
  {
   "cell_type": "code",
   "execution_count": 39,
   "id": "c07ee5e3",
   "metadata": {},
   "outputs": [
    {
     "data": {
      "text/html": [
       "<div>\n",
       "<style scoped>\n",
       "    .dataframe tbody tr th:only-of-type {\n",
       "        vertical-align: middle;\n",
       "    }\n",
       "\n",
       "    .dataframe tbody tr th {\n",
       "        vertical-align: top;\n",
       "    }\n",
       "\n",
       "    .dataframe thead th {\n",
       "        text-align: right;\n",
       "    }\n",
       "</style>\n",
       "<table border=\"1\" class=\"dataframe\">\n",
       "  <thead>\n",
       "    <tr style=\"text-align: right;\">\n",
       "      <th></th>\n",
       "      <th>degreeDistribution</th>\n",
       "      <th>graphName</th>\n",
       "      <th>database</th>\n",
       "      <th>databaseLocation</th>\n",
       "      <th>memoryUsage</th>\n",
       "      <th>sizeInBytes</th>\n",
       "      <th>nodeCount</th>\n",
       "      <th>relationshipCount</th>\n",
       "      <th>configuration</th>\n",
       "      <th>density</th>\n",
       "      <th>creationTime</th>\n",
       "      <th>modificationTime</th>\n",
       "      <th>schema</th>\n",
       "      <th>schemaWithOrientation</th>\n",
       "    </tr>\n",
       "  </thead>\n",
       "  <tbody>\n",
       "    <tr>\n",
       "      <th>0</th>\n",
       "      <td>{'min': 0, 'max': 307, 'p90': 38, 'p999': 282, 'p99': 175, 'p50': 2, 'p75': 9, 'p95': 71, 'mean': 13.242649157864687}</td>\n",
       "      <td>routes</td>\n",
       "      <td>neo4j</td>\n",
       "      <td>local</td>\n",
       "      <td>870 KiB</td>\n",
       "      <td>891472</td>\n",
       "      <td>3503</td>\n",
       "      <td>46389</td>\n",
       "      <td>{'relationshipProjection': {'HAS_ROUTE': {'aggregation': 'DEFAULT', 'orientation': 'NATURAL', 'indexInverse': False, 'properties': {}, 'type': 'HAS_ROUTE'}}, 'readConcurrency': 4, 'relationshipProperties': {}, 'nodeProperties': {}, 'jobId': '57f358d3-a724-4ecc-b13e-09e41c151a38', 'nodeProjection': {'Airport': {'label': 'Airport', 'properties': {}}}, 'logProgress': True, 'creationTime': 2024-08-04T19:02:19.890901098+00:00, 'validateRelationships': False, 'sudo': False}</td>\n",
       "      <td>0.003781</td>\n",
       "      <td>2024-08-04T19:02:19.890901098+00:00</td>\n",
       "      <td>2024-08-04T19:02:20.090307987+00:00</td>\n",
       "      <td>{'graphProperties': {}, 'nodes': {'Airport': {}}, 'relationships': {'HAS_ROUTE': {}}}</td>\n",
       "      <td>{'graphProperties': {}, 'nodes': {'Airport': {}}, 'relationships': {'HAS_ROUTE': {'direction': 'DIRECTED', 'properties': {}}}}</td>\n",
       "    </tr>\n",
       "    <tr>\n",
       "      <th>1</th>\n",
       "      <td>{'min': 0, 'max': 610, 'p90': 72, 'p999': 562, 'p99': 334, 'p50': 4, 'p75': 18, 'p95': 134, 'mean': 26.485298315729374}</td>\n",
       "      <td>airportGraph</td>\n",
       "      <td>neo4j</td>\n",
       "      <td>local</td>\n",
       "      <td>1126 KiB</td>\n",
       "      <td>1153640</td>\n",
       "      <td>3503</td>\n",
       "      <td>92778</td>\n",
       "      <td>{'relationshipProjection': {'HAS_ROUTE': {'aggregation': 'DEFAULT', 'orientation': 'UNDIRECTED', 'indexInverse': False, 'properties': {}, 'type': 'HAS_ROUTE'}}, 'readConcurrency': 4, 'relationshipProperties': {}, 'nodeProperties': {}, 'jobId': 'bb6bdd2a-6c81-4042-a893-31f28a9c2dcb', 'nodeProjection': {'Airport': {'label': 'Airport', 'properties': {}}}, 'logProgress': True, 'creationTime': 2024-08-04T19:01:57.296289175+00:00, 'validateRelationships': False, 'sudo': False}</td>\n",
       "      <td>0.007563</td>\n",
       "      <td>2024-08-04T19:01:57.296289175+00:00</td>\n",
       "      <td>2024-08-04T19:02:06.674598214+00:00</td>\n",
       "      <td>{'graphProperties': {}, 'nodes': {'Airport': {}}, 'relationships': {'HAS_ROUTE': {}}}</td>\n",
       "      <td>{'graphProperties': {}, 'nodes': {'Airport': {}}, 'relationships': {'HAS_ROUTE': {'direction': 'UNDIRECTED', 'properties': {}}}}</td>\n",
       "    </tr>\n",
       "  </tbody>\n",
       "</table>\n",
       "</div>"
      ],
      "text/plain": [
       "                                                                                                        degreeDistribution     graphName database databaseLocation memoryUsage  sizeInBytes  nodeCount  relationshipCount                                                                                                                                                                                                                                                                                                                                                                                                                                                                                configuration   density                         creationTime                     modificationTime                                                                                 schema                                                                                                             schemaWithOrientation\n",
       "0    {'min': 0, 'max': 307, 'p90': 38, 'p999': 282, 'p99': 175, 'p50': 2, 'p75': 9, 'p95': 71, 'mean': 13.242649157864687}        routes    neo4j            local     870 KiB       891472       3503              46389     {'relationshipProjection': {'HAS_ROUTE': {'aggregation': 'DEFAULT', 'orientation': 'NATURAL', 'indexInverse': False, 'properties': {}, 'type': 'HAS_ROUTE'}}, 'readConcurrency': 4, 'relationshipProperties': {}, 'nodeProperties': {}, 'jobId': '57f358d3-a724-4ecc-b13e-09e41c151a38', 'nodeProjection': {'Airport': {'label': 'Airport', 'properties': {}}}, 'logProgress': True, 'creationTime': 2024-08-04T19:02:19.890901098+00:00, 'validateRelationships': False, 'sudo': False}  0.003781  2024-08-04T19:02:19.890901098+00:00  2024-08-04T19:02:20.090307987+00:00  {'graphProperties': {}, 'nodes': {'Airport': {}}, 'relationships': {'HAS_ROUTE': {}}}    {'graphProperties': {}, 'nodes': {'Airport': {}}, 'relationships': {'HAS_ROUTE': {'direction': 'DIRECTED', 'properties': {}}}}\n",
       "1  {'min': 0, 'max': 610, 'p90': 72, 'p999': 562, 'p99': 334, 'p50': 4, 'p75': 18, 'p95': 134, 'mean': 26.485298315729374}  airportGraph    neo4j            local    1126 KiB      1153640       3503              92778  {'relationshipProjection': {'HAS_ROUTE': {'aggregation': 'DEFAULT', 'orientation': 'UNDIRECTED', 'indexInverse': False, 'properties': {}, 'type': 'HAS_ROUTE'}}, 'readConcurrency': 4, 'relationshipProperties': {}, 'nodeProperties': {}, 'jobId': 'bb6bdd2a-6c81-4042-a893-31f28a9c2dcb', 'nodeProjection': {'Airport': {'label': 'Airport', 'properties': {}}}, 'logProgress': True, 'creationTime': 2024-08-04T19:01:57.296289175+00:00, 'validateRelationships': False, 'sudo': False}  0.007563  2024-08-04T19:01:57.296289175+00:00  2024-08-04T19:02:06.674598214+00:00  {'graphProperties': {}, 'nodes': {'Airport': {}}, 'relationships': {'HAS_ROUTE': {}}}  {'graphProperties': {}, 'nodes': {'Airport': {}}, 'relationships': {'HAS_ROUTE': {'direction': 'UNDIRECTED', 'properties': {}}}}"
      ]
     },
     "execution_count": 39,
     "metadata": {},
     "output_type": "execute_result"
    }
   ],
   "source": [
    "# Convert the results to a DataFrame\n",
    "graph_list_df = pd.DataFrame(graph_list_results)\n",
    "\n",
    "pd.set_option('display.max_columns', None)  \n",
    "pd.set_option('display.width', 1000)        \n",
    "pd.set_option('display.max_rows', None)      \n",
    "pd.set_option('display.max_colwidth', None)  \n",
    "\n",
    "# Display the DataFrame\n",
    "graph_list_df"
   ]
  },
  {
   "cell_type": "code",
   "execution_count": null,
   "id": "fd04487f",
   "metadata": {},
   "outputs": [],
   "source": []
  },
  {
   "cell_type": "markdown",
   "id": "3af2c34f",
   "metadata": {},
   "source": [
    "# Graph Algorithms"
   ]
  },
  {
   "cell_type": "markdown",
   "id": "317255fc",
   "metadata": {},
   "source": [
    "*PageRank Algorithm*"
   ]
  },
  {
   "cell_type": "code",
   "execution_count": 40,
   "id": "36c5babf",
   "metadata": {},
   "outputs": [
    {
     "name": "stdout",
     "output_type": "stream",
     "text": [
      "  iata                                         description   pageRank\n",
      "0  DFW             Dallas/Fort Worth International Airport  11.979783\n",
      "1  ORD                Chicago O'Hare International Airport  11.162988\n",
      "2  DEN                        Denver International Airport  10.997299\n",
      "3  ATL  Hartsfield - Jackson Atlanta International Airport  10.389948\n",
      "4  IST                      Istanbul International Airport   8.425801\n"
     ]
    }
   ],
   "source": [
    "# Define the Cypher query for PageRank\n",
    "query = \"\"\"\n",
    "CALL gds.pageRank.stream('routes')\n",
    "YIELD nodeId, score\n",
    "WITH gds.util.asNode(nodeId) AS n, score AS pageRank\n",
    "RETURN n.iata AS iata, n.descr AS description, pageRank\n",
    "ORDER BY pageRank DESC, iata ASC\n",
    "\"\"\"\n",
    "\n",
    "# Function to execute the query and return the results\n",
    "def execute_pagerank_query(driver, query):\n",
    "    with driver.session() as session:\n",
    "        result = session.run(query)\n",
    "        return [record.data() for record in result]\n",
    "\n",
    "# Execute the query\n",
    "pagerank_results = execute_pagerank_query(driver, query)\n",
    "\n",
    "# Convert the results to a DataFrame\n",
    "pagerank_df = pd.DataFrame(pagerank_results)\n",
    "\n",
    "\n",
    "# Display the DataFrame\n",
    "print(pagerank_df.head())"
   ]
  },
  {
   "cell_type": "code",
   "execution_count": null,
   "id": "5da48e8b",
   "metadata": {},
   "outputs": [],
   "source": []
  },
  {
   "cell_type": "code",
   "execution_count": 41,
   "id": "e2f19d10",
   "metadata": {},
   "outputs": [
    {
     "name": "stdout",
     "output_type": "stream",
     "text": [
      "   nodePropertiesWritten  ranIterations\n",
      "0                   3503             20\n"
     ]
    }
   ],
   "source": [
    "# Define the Cypher query to write Page Rank Algorithm Results to the Database\n",
    "query = \"\"\"\n",
    "CALL gds.pageRank.write('routes',\n",
    "    {\n",
    "        writeProperty: 'pageRank'\n",
    "    }\n",
    ")\n",
    "YIELD nodePropertiesWritten, ranIterations\n",
    "\"\"\"\n",
    "\n",
    "# Function to execute the query and return the results\n",
    "def execute_query(driver, query):\n",
    "    with driver.session() as session:\n",
    "        result = session.run(query)\n",
    "        return [record.data() for record in result]\n",
    "\n",
    "# Execute the query\n",
    "results = execute_query(driver, query)\n",
    "\n",
    "# Convert the results to a DataFrame\n",
    "df = pd.DataFrame(results)\n",
    "\n",
    "# Display the DataFrame\n",
    "print(df)"
   ]
  },
  {
   "cell_type": "code",
   "execution_count": 42,
   "id": "0ae09a21",
   "metadata": {},
   "outputs": [
    {
     "name": "stdout",
     "output_type": "stream",
     "text": [
      "  iata                                         description   pageRank\n",
      "0  DFW             Dallas/Fort Worth International Airport  11.979783\n",
      "1  ORD                Chicago O'Hare International Airport  11.162988\n",
      "2  DEN                        Denver International Airport  10.997299\n",
      "3  ATL  Hartsfield - Jackson Atlanta International Airport  10.389948\n",
      "4  IST                      Istanbul International Airport   8.425801\n"
     ]
    }
   ],
   "source": [
    "# Define the Cypher query after applying Page Rank Algorithm to the database\n",
    "query = \"\"\"\n",
    "MATCH (a:Airport)\n",
    "RETURN a.iata AS iata, a.descr AS description, a.pageRank AS pageRank\n",
    "ORDER BY a.pageRank DESC, a.iata ASC\n",
    "\"\"\"\n",
    "\n",
    "# Function to execute the query and return the results\n",
    "def execute_query(driver, query):\n",
    "    with driver.session() as session:\n",
    "        result = session.run(query)\n",
    "        return [record.data() for record in result]\n",
    "\n",
    "# Execute the query\n",
    "results = execute_query(driver, query)\n",
    "\n",
    "# Convert the results to a DataFrame\n",
    "df = pd.DataFrame(results)\n",
    "\n",
    "pd.set_option('display.max_columns', None)   \n",
    "pd.set_option('display.width', 1000)      \n",
    "pd.set_option('display.max_rows', None)    \n",
    "pd.set_option('display.max_colwidth', None) \n",
    "\n",
    "# Display the DataFrame\n",
    "print(df.head())"
   ]
  },
  {
   "cell_type": "code",
   "execution_count": null,
   "id": "f1974624",
   "metadata": {},
   "outputs": [],
   "source": []
  },
  {
   "cell_type": "markdown",
   "id": "ae8bd257",
   "metadata": {},
   "source": [
    "*Community (cluster) detection via Louvain Modularity Algorithm*"
   ]
  },
  {
   "cell_type": "code",
   "execution_count": 43,
   "id": "e541e166",
   "metadata": {},
   "outputs": [
    {
     "name": "stdout",
     "output_type": "stream",
     "text": [
      "Louvain Algorithm Results:\n",
      "\n"
     ]
    },
    {
     "data": {
      "text/html": [
       "<div>\n",
       "<style scoped>\n",
       "    .dataframe tbody tr th:only-of-type {\n",
       "        vertical-align: middle;\n",
       "    }\n",
       "\n",
       "    .dataframe tbody tr th {\n",
       "        vertical-align: top;\n",
       "    }\n",
       "\n",
       "    .dataframe thead th {\n",
       "        text-align: right;\n",
       "    }\n",
       "</style>\n",
       "<table border=\"1\" class=\"dataframe\">\n",
       "  <thead>\n",
       "    <tr style=\"text-align: right;\">\n",
       "      <th></th>\n",
       "      <th>communityId</th>\n",
       "      <th>numberOfAirports</th>\n",
       "      <th>cities</th>\n",
       "      <th>iataCodes</th>\n",
       "    </tr>\n",
       "  </thead>\n",
       "  <tbody>\n",
       "    <tr>\n",
       "      <th>0</th>\n",
       "      <td>3018</td>\n",
       "      <td>686</td>\n",
       "      <td>[Atlanta, Anchorage, Austin, Nashville, Boston, Baltimore, Washington D.C., Dallas, Fort Lauderdale, Houston, New York, Los Angeles, Orlando, Miami, Minneapolis, Chicago, West Palm Beach, Phoenix, Raleigh, Seattle, San Francisco, San Jose, Tampa, San Diego, Long Beach, Santa Ana, Salt Lake City, Las Vegas, Denver, White Plains, San Antonio, New Orleans, Newark, Cedar Rapids, Honolulu, El Paso, San Juan, Cleveland, Oakland, Tucson, Santa Fe, Philadelphia, Detroit, Toronto, Vancouver, Ottawa, Fort Myers, Montreal, Edmonton, Calgary, St. John's, Mexico City, Kingston, Tallahassee, Pittsburgh, Portland, Oaklahoma City, Ontario, Rochester, Halifax, Winnipeg, Charlotte, Cancun, Palm Springs, Memphis, Cincinnati, Indianapolis, Kansas City, St Louis, Albuquerque, Milwaukee, Harrison, Salina, Omaha, Tulsa, Puerto Vallarta, Kahului, Nassau, Freeport, George Town, Key West, Bridgetown, St. George, Charlotte Amalie, Hamilton, Scarborough, Port of Spain, Montego Bay, Little Rock, Curacao, Kralendijk, Oranjestad, Norfolk, Jacksonville, Providence, Punta Cana, Harrisburg, Sacramento, Roatan Island, Tegucigalpa, ...]</td>\n",
       "      <td>[ATL, ANC, AUS, BNA, BOS, BWI, DCA, DFW, FLL, IAD, IAH, JFK, LAX, LGA, MCO, MIA, MSP, ORD, PBI, PHX, RDU, SEA, SFO, SJC, TPA, SAN, LGB, SNA, SLC, LAS, DEN, HPN, SAT, MSY, EWR, CID, HNL, HOU, ELP, SJU, CLE, OAK, TUS, SAF, PHL, DTW, YYZ, YVR, YOW, RSW, YUL, YEG, YYC, YYT, MEX, KIN, TLH, PIT, PWM, PDX, OKC, ONT, ROC, RST, YHZ, YWG, CLT, CUN, PSP, MEM, CVG, IND, MCI, DAL, STL, ABQ, MKE, MDW, HRO, SLN, OMA, TUL, PVR, OGG, NAS, FPO, GGT, EYW, BGI, ANU, STT, BDA, TAB, POS, MBJ, LIT, CUR, BON, AUA, ORF, ...]</td>\n",
       "    </tr>\n",
       "    <tr>\n",
       "      <th>1</th>\n",
       "      <td>3307</td>\n",
       "      <td>522</td>\n",
       "      <td>[London, Paris, Frankfurt, Helsinki, Dublin, Rome, Amsterdam, Prague, Barcelona, Madrid, Vienna, Zurich, Geneva, Brussels, Munich, Manchester, Cologne, Gothenburg, Venice, Shannon, Oslo, Stockholm, Nottingham, Edinburgh, Glasgow, Liverpool, Nice, Milan, Athens, Zagreb, Budapest, Alicante, Bilbao, Ibiza, Menorca, Tenerife, Larnaca, Warsaw, Luqa, Sofia, Belgrade, Tel Aviv, Hamburg, Stuttgart, Genoa, Naples, Pisa, Turin, Bologna, Verona, Nantes, Copenhagen, Luxembourg, Dusseldorf, Lisbon, Gibraltar, Tunis, Reykjavik, Gran Canaria, Southampton, Palma De Mallorca, Riga, Malaga, Funchal, Leeds, Aberdeen, Antalya, Saint Helier, Zakynthos, Rhodes, Bristol, Newcastle, Saint Peter Port, Eindhoven, Sevilla, Basle, Dubrovnik, Stavanger, Bergen, Tallinn, Algiers, Cork, Wroclaw, Split, Belfast, Hannover, Lyon, Marseille, Bucharest, Rotterdam, Casablanca, Tangier, Faro, Mykonos Island, Santorini Island, Kiev, Rijeka, Toulouse/Blagnac, Porto, Culleredo, ...]</td>\n",
       "      <td>[LHR, LGW, CDG, FRA, HEL, DUB, FCO, AMS, PRG, BCN, MAD, VIE, ZRH, GVA, BRU, MUC, MAN, CGN, LCY, GOT, VCE, SNN, OSL, ARN, STN, EMA, EDI, GLA, LPL, ORY, NCE, MXP, ATH, ZAG, BUD, ALC, BIO, IBZ, MAH, TFN, LCA, WAW, MLA, SOF, BEG, TLV, HAM, STR, GOA, NAP, PSA, TRN, BLQ, TSF, VRN, NTE, CPH, LUX, DUS, LIS, GIB, TUN, LTN, KEF, LPA, SOU, PMI, RIX, AGP, FNC, LBA, ABZ, AYT, JER, ZTH, RHO, BRS, NCL, GCI, EIN, SVQ, BSL, DBV, SVG, BGO, TLL, ALG, ORK, WRO, SPU, BHD, HAJ, LIN, LYS, MRS, OTP, RTM, CMN, TNG, FAO, ...]</td>\n",
       "    </tr>\n",
       "    <tr>\n",
       "      <th>2</th>\n",
       "      <td>2784</td>\n",
       "      <td>377</td>\n",
       "      <td>[Dubai, New Delhi, Mumbai, Doha, Calicut, Hyderabad, Chennai, Kolkata, Bengaluru, Cape Town, Johannesburg, Durban, Nairobi, Mombasa, Cairo, Addis Ababa, Kuwait, Istanbul, Manama, Abu Dhabi, Colombo, Kathmandu, Jeddah, Muscat, Lagos, Harare, Luxor, Riyadh, Islamabad, Amman, Karachi, Lahore, Ashgabat, Jaipur, Accra, Kampala, Abuja, Beirut, Freetown, Luanda, Tripoli, Dhaka, Sylhet, Tehran, Port Louis, Mahe Island, Malé, Kigali, Arusha, Ad Dammam, Arbil, Dakar, Agra, Khajuraho, Varanasi, Mangalore, Ahmedabad, Jodhpur, Pune, Sharjah, Aden, Coimbatore, Cochin, Trivandrum, Tiruchirappally, Sana'a, Diu, Porbandar, Windhoek, Ankara, Lusaka, Hargeisa, Berbera, Djibouti City, Alexandria, Port Sudan, Juba, Khartoum, Dar es Salaam, Gheshm, Kabul, Douala, Cotonou, Ouagadougou, Abidjan, Niamey, Sfax, Lomé, Brazzaville, Pointe Noire, Bangui, Yaoundé, St Denis, Antananarivo, Libreville, N'Djamena, Kinshasa, Senou, Monrovia, Nouakchott, ...]</td>\n",
       "      <td>[DXB, DEL, BOM, DOH, CCJ, HYD, MAA, CCU, BLR, CPT, JNB, DUR, NBO, MBA, CAI, ADD, KWI, IST, BAH, AUH, CMB, KTM, JED, MCT, LOS, HRE, LXR, RUH, ISB, AMM, KHI, LHE, ASB, JAI, ACC, EBB, ABV, BEY, FNA, LAD, TIP, DAC, ZYL, IKA, MRU, SEZ, SAW, MLE, KGL, JRO, DMM, EBL, DKR, AGR, HJR, VNS, IXE, AMD, JDH, PNQ, SHJ, ADE, CJB, COK, TRV, TRZ, SAH, DIU, PBD, WDH, ESB, LUN, HGA, BBO, JIB, HBE, PZU, JUB, KRT, DAR, GSM, KBL, DLA, COO, OUA, ABJ, NIM, SFA, LFW, BZV, PNR, BGF, NSI, RUN, TNR, LBV, NDJ, FIH, BKO, ROB, ...]</td>\n",
       "    </tr>\n",
       "    <tr>\n",
       "      <th>3</th>\n",
       "      <td>2838</td>\n",
       "      <td>251</td>\n",
       "      <td>[Tokyo, Singapore, Hong Kong, Beijing, Shanghai, Kuala Lumpur, Manila, Bangkok, Osaka, Seoul, Phnom Penh, Ho Chi Minh City, Hagta, Taipei, Fukuoka, Sapporo, Denpasar, Jakarta, Guangzhou, Phuket, Nanjing, Chengdu, Hanoi, Kaohsiung City, Tokoname, Xiamen, Hangzhou, Vladivostok, Shenzhen, Hiroshima, Dili, Tianjin, Changsha, Penang, Wuhan, Haikou, Kunming, Fuzhou, Ningbo, Qingdao, Chongqing, Guiyang, Nanning, Kagoshima, Oita, Kanazawa, Yonago, Matsuyama, Takamatsu, Niigata, Sendai, Jeju City, Busan, Naha, Saipan Island, Babelthuap Island, Yangon, Chiang Mai, Krabi, Na Thon (Ko Samui Island), Hat Yai, Da Nang, Bandar Seri Begawan, Lapu-Lapu City, Ulaanbaatar, Taipa, Kotamadya Balikpapan, Kota Kinabalu, Angeles City, Kota Baharu, Iloilo City, Siem Reap, Changchun, Dalian, Shenyang, Kuching, Miri, Kuantan, Ipoh, Langkawi, Kuala Terengganu, Kuala Lumpur Subang, Davao City, Vientiane, Surabaya, Bandung-Java Island, Mataram, Kalibo, Pekanbaru-Sumatra Island, Palembang-Sumatra Island, Sukarata(Solo)-Java Island, Semarang-Java Island, Ujung Pandang-Celebes Island, Yogyakarta-Java Island, Taipei City, Shirahama, Kobe, Obihiro, Hakodate, Kushiro, ...]</td>\n",
       "      <td>[NRT, SIN, HKG, PEK, PVG, KUL, MNL, BKK, ITM, HND, ICN, PNH, SGN, GUM, TPE, FUK, KIX, CTS, DPS, CGK, CAN, HKT, NKG, CTU, HAN, KHH, NGO, XMN, HGH, VVO, SZX, HIJ, DIL, TSN, CSX, PEN, WUH, HAK, KMG, FOC, NGB, TAO, CKG, KWE, NNG, KOJ, OIT, KMQ, YGJ, MYJ, TAK, KIJ, SDJ, CJU, PUS, OKA, SPN, ROR, RGN, DMK, CNX, KBV, USM, HDY, DAD, BWN, CEB, ULN, MFM, BPN, BKI, CRK, KBR, ILO, REP, CGQ, DLC, SHE, KCH, MYY, KUA, IPH, LGK, TGG, SZB, DVO, VTE, SUB, BDO, LOP, KLO, PKU, PLM, SOC, SRG, UPG, JOG, TSA, SHM, UKB, ...]</td>\n",
       "    </tr>\n",
       "    <tr>\n",
       "      <th>4</th>\n",
       "      <td>2927</td>\n",
       "      <td>187</td>\n",
       "      <td>[Sydney, Melbourne, Perth, Auckland, Wellington, Brisbane, Christchurch, Canberra, Ayers Rock, Alice Springs, Gold Coast, Cairns, Maroochydore, Adelaide, Darwin, Nadi, Port Moresby, Papeete, Apia, Majuro Atoll, Banana, Tarawa, Yaren District, Nouméa, Avarua, Nausori, Nuku'alofa, Port Vila, Queenstown, Armidale, Broken Hill, Hamilton Island, Mackay, Ballina, Proserpine, Broome, Bathurst, Townsville, Gladstone, Griffith, Hervey Bay, Lord Howe Island, Lismore, Albury, Merimbula, Hobart, Mildura, Launceston, Moree, Moruya, Narrandera, Orange, Karratha, Parkes, Port Macquarie, Coffs Harbour, Dubbo, Burnt Pine, Tamworth, Wagga Wagga, Taree, Williamtown, Devonport, Currie, Mount Gambier, Kalgoorlie, Port Hedland, Burnie, Taupo, Dunedin, Gisborne, Hamilton, Kerikeri, Kaitaia, New Plymouth, Napier, Nelson, Palmerston North, Paraparaumu, Rotorua, Tauranga, Blenheim, Whakatane, Whangarei, Wanganui, Albany, Busselton, Derby, Esperance, Geraldton, Ravensthorpe, Newman, Paraburdoo, Kununurra, Exmouth, Christmas Island, Honiara, Luganville, Hokitika, Invercargill, ...]</td>\n",
       "      <td>[SYD, MEL, PER, AKL, WLG, BNE, CHC, CBR, AYQ, ASP, OOL, CNS, MCY, ADL, DRW, NAN, POM, PPT, APW, MAJ, CXI, TRW, INU, NOU, RAR, SUV, TBU, VLI, ZQN, ARM, BHQ, HTI, MKY, BNK, PPP, BME, BHS, TSV, GLT, GFF, HVB, LDH, LSY, AVV, ABX, MIM, HBA, MQL, LST, MRZ, MYA, NRA, OAG, KTA, PKE, PQQ, CFS, DBO, NLK, TMW, WGA, TRO, NTL, DPO, KNS, MGB, KGI, PHE, BWT, TUO, DUD, GIS, HLZ, KKE, KAT, NPL, NPE, NSN, PMR, PPQ, ROT, TRG, BHE, WHK, WRE, WAG, ALH, BQB, DCN, EPR, GET, RVT, ZNE, PBO, KNX, LEA, XCH, HIR, SON, HKK, ...]</td>\n",
       "    </tr>\n",
       "  </tbody>\n",
       "</table>\n",
       "</div>"
      ],
      "text/plain": [
       "   communityId  numberOfAirports  \\\n",
       "0         3018               686   \n",
       "1         3307               522   \n",
       "2         2784               377   \n",
       "3         2838               251   \n",
       "4         2927               187   \n",
       "\n",
       "                                                                                                                                                                                                                                                                                                                                                                                                                                                                                                                                                                                                                                                                                                                                                                                                                                                                                                                                                                                                                                                                                                                                                                                                cities  \\\n",
       "0                                       [Atlanta, Anchorage, Austin, Nashville, Boston, Baltimore, Washington D.C., Dallas, Fort Lauderdale, Houston, New York, Los Angeles, Orlando, Miami, Minneapolis, Chicago, West Palm Beach, Phoenix, Raleigh, Seattle, San Francisco, San Jose, Tampa, San Diego, Long Beach, Santa Ana, Salt Lake City, Las Vegas, Denver, White Plains, San Antonio, New Orleans, Newark, Cedar Rapids, Honolulu, El Paso, San Juan, Cleveland, Oakland, Tucson, Santa Fe, Philadelphia, Detroit, Toronto, Vancouver, Ottawa, Fort Myers, Montreal, Edmonton, Calgary, St. John's, Mexico City, Kingston, Tallahassee, Pittsburgh, Portland, Oaklahoma City, Ontario, Rochester, Halifax, Winnipeg, Charlotte, Cancun, Palm Springs, Memphis, Cincinnati, Indianapolis, Kansas City, St Louis, Albuquerque, Milwaukee, Harrison, Salina, Omaha, Tulsa, Puerto Vallarta, Kahului, Nassau, Freeport, George Town, Key West, Bridgetown, St. George, Charlotte Amalie, Hamilton, Scarborough, Port of Spain, Montego Bay, Little Rock, Curacao, Kralendijk, Oranjestad, Norfolk, Jacksonville, Providence, Punta Cana, Harrisburg, Sacramento, Roatan Island, Tegucigalpa, ...]   \n",
       "1                                                                                                                                                                                                         [London, Paris, Frankfurt, Helsinki, Dublin, Rome, Amsterdam, Prague, Barcelona, Madrid, Vienna, Zurich, Geneva, Brussels, Munich, Manchester, Cologne, Gothenburg, Venice, Shannon, Oslo, Stockholm, Nottingham, Edinburgh, Glasgow, Liverpool, Nice, Milan, Athens, Zagreb, Budapest, Alicante, Bilbao, Ibiza, Menorca, Tenerife, Larnaca, Warsaw, Luqa, Sofia, Belgrade, Tel Aviv, Hamburg, Stuttgart, Genoa, Naples, Pisa, Turin, Bologna, Verona, Nantes, Copenhagen, Luxembourg, Dusseldorf, Lisbon, Gibraltar, Tunis, Reykjavik, Gran Canaria, Southampton, Palma De Mallorca, Riga, Malaga, Funchal, Leeds, Aberdeen, Antalya, Saint Helier, Zakynthos, Rhodes, Bristol, Newcastle, Saint Peter Port, Eindhoven, Sevilla, Basle, Dubrovnik, Stavanger, Bergen, Tallinn, Algiers, Cork, Wroclaw, Split, Belfast, Hannover, Lyon, Marseille, Bucharest, Rotterdam, Casablanca, Tangier, Faro, Mykonos Island, Santorini Island, Kiev, Rijeka, Toulouse/Blagnac, Porto, Culleredo, ...]   \n",
       "2                                                                                                                                                                                                                            [Dubai, New Delhi, Mumbai, Doha, Calicut, Hyderabad, Chennai, Kolkata, Bengaluru, Cape Town, Johannesburg, Durban, Nairobi, Mombasa, Cairo, Addis Ababa, Kuwait, Istanbul, Manama, Abu Dhabi, Colombo, Kathmandu, Jeddah, Muscat, Lagos, Harare, Luxor, Riyadh, Islamabad, Amman, Karachi, Lahore, Ashgabat, Jaipur, Accra, Kampala, Abuja, Beirut, Freetown, Luanda, Tripoli, Dhaka, Sylhet, Tehran, Port Louis, Mahe Island, Malé, Kigali, Arusha, Ad Dammam, Arbil, Dakar, Agra, Khajuraho, Varanasi, Mangalore, Ahmedabad, Jodhpur, Pune, Sharjah, Aden, Coimbatore, Cochin, Trivandrum, Tiruchirappally, Sana'a, Diu, Porbandar, Windhoek, Ankara, Lusaka, Hargeisa, Berbera, Djibouti City, Alexandria, Port Sudan, Juba, Khartoum, Dar es Salaam, Gheshm, Kabul, Douala, Cotonou, Ouagadougou, Abidjan, Niamey, Sfax, Lomé, Brazzaville, Pointe Noire, Bangui, Yaoundé, St Denis, Antananarivo, Libreville, N'Djamena, Kinshasa, Senou, Monrovia, Nouakchott, ...]   \n",
       "3  [Tokyo, Singapore, Hong Kong, Beijing, Shanghai, Kuala Lumpur, Manila, Bangkok, Osaka, Seoul, Phnom Penh, Ho Chi Minh City, Hagta, Taipei, Fukuoka, Sapporo, Denpasar, Jakarta, Guangzhou, Phuket, Nanjing, Chengdu, Hanoi, Kaohsiung City, Tokoname, Xiamen, Hangzhou, Vladivostok, Shenzhen, Hiroshima, Dili, Tianjin, Changsha, Penang, Wuhan, Haikou, Kunming, Fuzhou, Ningbo, Qingdao, Chongqing, Guiyang, Nanning, Kagoshima, Oita, Kanazawa, Yonago, Matsuyama, Takamatsu, Niigata, Sendai, Jeju City, Busan, Naha, Saipan Island, Babelthuap Island, Yangon, Chiang Mai, Krabi, Na Thon (Ko Samui Island), Hat Yai, Da Nang, Bandar Seri Begawan, Lapu-Lapu City, Ulaanbaatar, Taipa, Kotamadya Balikpapan, Kota Kinabalu, Angeles City, Kota Baharu, Iloilo City, Siem Reap, Changchun, Dalian, Shenyang, Kuching, Miri, Kuantan, Ipoh, Langkawi, Kuala Terengganu, Kuala Lumpur Subang, Davao City, Vientiane, Surabaya, Bandung-Java Island, Mataram, Kalibo, Pekanbaru-Sumatra Island, Palembang-Sumatra Island, Sukarata(Solo)-Java Island, Semarang-Java Island, Ujung Pandang-Celebes Island, Yogyakarta-Java Island, Taipei City, Shirahama, Kobe, Obihiro, Hakodate, Kushiro, ...]   \n",
       "4                                                                                       [Sydney, Melbourne, Perth, Auckland, Wellington, Brisbane, Christchurch, Canberra, Ayers Rock, Alice Springs, Gold Coast, Cairns, Maroochydore, Adelaide, Darwin, Nadi, Port Moresby, Papeete, Apia, Majuro Atoll, Banana, Tarawa, Yaren District, Nouméa, Avarua, Nausori, Nuku'alofa, Port Vila, Queenstown, Armidale, Broken Hill, Hamilton Island, Mackay, Ballina, Proserpine, Broome, Bathurst, Townsville, Gladstone, Griffith, Hervey Bay, Lord Howe Island, Lismore, Albury, Merimbula, Hobart, Mildura, Launceston, Moree, Moruya, Narrandera, Orange, Karratha, Parkes, Port Macquarie, Coffs Harbour, Dubbo, Burnt Pine, Tamworth, Wagga Wagga, Taree, Williamtown, Devonport, Currie, Mount Gambier, Kalgoorlie, Port Hedland, Burnie, Taupo, Dunedin, Gisborne, Hamilton, Kerikeri, Kaitaia, New Plymouth, Napier, Nelson, Palmerston North, Paraparaumu, Rotorua, Tauranga, Blenheim, Whakatane, Whangarei, Wanganui, Albany, Busselton, Derby, Esperance, Geraldton, Ravensthorpe, Newman, Paraburdoo, Kununurra, Exmouth, Christmas Island, Honiara, Luganville, Hokitika, Invercargill, ...]   \n",
       "\n",
       "                                                                                                                                                                                                                                                                                                                                                                                                                                                                                                                   iataCodes  \n",
       "0  [ATL, ANC, AUS, BNA, BOS, BWI, DCA, DFW, FLL, IAD, IAH, JFK, LAX, LGA, MCO, MIA, MSP, ORD, PBI, PHX, RDU, SEA, SFO, SJC, TPA, SAN, LGB, SNA, SLC, LAS, DEN, HPN, SAT, MSY, EWR, CID, HNL, HOU, ELP, SJU, CLE, OAK, TUS, SAF, PHL, DTW, YYZ, YVR, YOW, RSW, YUL, YEG, YYC, YYT, MEX, KIN, TLH, PIT, PWM, PDX, OKC, ONT, ROC, RST, YHZ, YWG, CLT, CUN, PSP, MEM, CVG, IND, MCI, DAL, STL, ABQ, MKE, MDW, HRO, SLN, OMA, TUL, PVR, OGG, NAS, FPO, GGT, EYW, BGI, ANU, STT, BDA, TAB, POS, MBJ, LIT, CUR, BON, AUA, ORF, ...]  \n",
       "1  [LHR, LGW, CDG, FRA, HEL, DUB, FCO, AMS, PRG, BCN, MAD, VIE, ZRH, GVA, BRU, MUC, MAN, CGN, LCY, GOT, VCE, SNN, OSL, ARN, STN, EMA, EDI, GLA, LPL, ORY, NCE, MXP, ATH, ZAG, BUD, ALC, BIO, IBZ, MAH, TFN, LCA, WAW, MLA, SOF, BEG, TLV, HAM, STR, GOA, NAP, PSA, TRN, BLQ, TSF, VRN, NTE, CPH, LUX, DUS, LIS, GIB, TUN, LTN, KEF, LPA, SOU, PMI, RIX, AGP, FNC, LBA, ABZ, AYT, JER, ZTH, RHO, BRS, NCL, GCI, EIN, SVQ, BSL, DBV, SVG, BGO, TLL, ALG, ORK, WRO, SPU, BHD, HAJ, LIN, LYS, MRS, OTP, RTM, CMN, TNG, FAO, ...]  \n",
       "2  [DXB, DEL, BOM, DOH, CCJ, HYD, MAA, CCU, BLR, CPT, JNB, DUR, NBO, MBA, CAI, ADD, KWI, IST, BAH, AUH, CMB, KTM, JED, MCT, LOS, HRE, LXR, RUH, ISB, AMM, KHI, LHE, ASB, JAI, ACC, EBB, ABV, BEY, FNA, LAD, TIP, DAC, ZYL, IKA, MRU, SEZ, SAW, MLE, KGL, JRO, DMM, EBL, DKR, AGR, HJR, VNS, IXE, AMD, JDH, PNQ, SHJ, ADE, CJB, COK, TRV, TRZ, SAH, DIU, PBD, WDH, ESB, LUN, HGA, BBO, JIB, HBE, PZU, JUB, KRT, DAR, GSM, KBL, DLA, COO, OUA, ABJ, NIM, SFA, LFW, BZV, PNR, BGF, NSI, RUN, TNR, LBV, NDJ, FIH, BKO, ROB, ...]  \n",
       "3  [NRT, SIN, HKG, PEK, PVG, KUL, MNL, BKK, ITM, HND, ICN, PNH, SGN, GUM, TPE, FUK, KIX, CTS, DPS, CGK, CAN, HKT, NKG, CTU, HAN, KHH, NGO, XMN, HGH, VVO, SZX, HIJ, DIL, TSN, CSX, PEN, WUH, HAK, KMG, FOC, NGB, TAO, CKG, KWE, NNG, KOJ, OIT, KMQ, YGJ, MYJ, TAK, KIJ, SDJ, CJU, PUS, OKA, SPN, ROR, RGN, DMK, CNX, KBV, USM, HDY, DAD, BWN, CEB, ULN, MFM, BPN, BKI, CRK, KBR, ILO, REP, CGQ, DLC, SHE, KCH, MYY, KUA, IPH, LGK, TGG, SZB, DVO, VTE, SUB, BDO, LOP, KLO, PKU, PLM, SOC, SRG, UPG, JOG, TSA, SHM, UKB, ...]  \n",
       "4  [SYD, MEL, PER, AKL, WLG, BNE, CHC, CBR, AYQ, ASP, OOL, CNS, MCY, ADL, DRW, NAN, POM, PPT, APW, MAJ, CXI, TRW, INU, NOU, RAR, SUV, TBU, VLI, ZQN, ARM, BHQ, HTI, MKY, BNK, PPP, BME, BHS, TSV, GLT, GFF, HVB, LDH, LSY, AVV, ABX, MIM, HBA, MQL, LST, MRZ, MYA, NRA, OAG, KTA, PKE, PQQ, CFS, DBO, NLK, TMW, WGA, TRO, NTL, DPO, KNS, MGB, KGI, PHE, BWT, TUO, DUD, GIS, HLZ, KKE, KAT, NPL, NPE, NSN, PMR, PPQ, ROT, TRG, BHE, WHK, WRE, WAG, ALH, BQB, DCN, EPR, GET, RVT, ZNE, PBO, KNX, LEA, XCH, HIR, SON, HKK, ...]  "
      ]
     },
     "execution_count": 43,
     "metadata": {},
     "output_type": "execute_result"
    }
   ],
   "source": [
    "# Define the Cypher query to Extract Louvain Algorithm Results \n",
    "def execute_query(driver, query):\n",
    "    with driver.session() as session:\n",
    "        result = session.run(query)\n",
    "        return [record.data() for record in result]\n",
    "\n",
    "query = \"\"\"\n",
    "CALL gds.louvain.stream('routes')\n",
    "YIELD nodeId, communityId\n",
    "WITH gds.util.asNode(nodeId) AS airport, communityId\n",
    "RETURN\n",
    "    communityId,\n",
    "    COUNT(airport) AS numberOfAirports,\n",
    "    COLLECT(DISTINCT airport.city) AS cities,\n",
    "    COLLECT(DISTINCT airport.iata) AS iataCodes\n",
    "ORDER BY numberOfAirports DESC, communityId;\n",
    "\"\"\"\n",
    "\n",
    "try:\n",
    "    results = execute_query(driver, query)\n",
    "    print(\"Louvain Algorithm Results:\\n\")\n",
    "except Exception as e:\n",
    "    print(f\"Error running Louvain Modularity Algorithm: {e}\")\n",
    "\n",
    "# Convert the results to a DataFrame\n",
    "df = pd.DataFrame(results)\n",
    "\n",
    "pd.set_option('display.max_columns', None)\n",
    "pd.set_option('display.width', 1000)\n",
    "pd.set_option('display.max_rows', None)\n",
    "pd.set_option('display.max_colwidth', None)\n",
    "\n",
    "# Display the DataFrame\n",
    "df.head()"
   ]
  },
  {
   "cell_type": "code",
   "execution_count": null,
   "id": "a1161450",
   "metadata": {},
   "outputs": [],
   "source": []
  },
  {
   "cell_type": "markdown",
   "id": "f2d93825",
   "metadata": {},
   "source": [
    "*Node similarity Algorithm*"
   ]
  },
  {
   "cell_type": "code",
   "execution_count": 44,
   "id": "43868081",
   "metadata": {},
   "outputs": [
    {
     "name": "stdout",
     "output_type": "stream",
     "text": [
      "Node similarity Algorithm Results:\n",
      "\n"
     ]
    },
    {
     "data": {
      "text/html": [
       "<div>\n",
       "<style scoped>\n",
       "    .dataframe tbody tr th:only-of-type {\n",
       "        vertical-align: middle;\n",
       "    }\n",
       "\n",
       "    .dataframe tbody tr th {\n",
       "        vertical-align: top;\n",
       "    }\n",
       "\n",
       "    .dataframe thead th {\n",
       "        text-align: right;\n",
       "    }\n",
       "</style>\n",
       "<table border=\"1\" class=\"dataframe\">\n",
       "  <thead>\n",
       "    <tr style=\"text-align: right;\">\n",
       "      <th></th>\n",
       "      <th>iata</th>\n",
       "      <th>city</th>\n",
       "      <th>similarAirports</th>\n",
       "    </tr>\n",
       "  </thead>\n",
       "  <tbody>\n",
       "    <tr>\n",
       "      <th>0</th>\n",
       "      <td>AAL</td>\n",
       "      <td>Aalborg</td>\n",
       "      <td>[{'iata': 'KRS', 'city': 'Kjevik', 'similarityScore': 0.3333333333333333}, {'iata': 'HAU', 'city': 'Karmøy', 'similarityScore': 0.2727272727272727}, {'iata': 'SZZ', 'city': 'Goleniow', 'similarityScore': 0.2608695652173913}, {'iata': 'AAR', 'city': 'Aarhus', 'similarityScore': 0.25}, {'iata': 'TRF', 'city': 'Torp', 'similarityScore': 0.24444444444444444}, {'iata': 'BLL', 'city': 'Billund', 'similarityScore': 0.23333333333333334}, {'iata': 'AES', 'city': 'Ålesund', 'similarityScore': 0.22727272727272727}, {'iata': 'GOT', 'city': 'Gothenburg', 'similarityScore': 0.21875}, {'iata': 'SVG', 'city': 'Stavanger', 'similarityScore': 0.21568627450980393}, {'iata': 'KYA', 'city': 'Konya', 'similarityScore': 0.21052631578947367}]</td>\n",
       "    </tr>\n",
       "    <tr>\n",
       "      <th>1</th>\n",
       "      <td>AAR</td>\n",
       "      <td>Aarhus</td>\n",
       "      <td>[{'iata': 'AAL', 'city': 'Aalborg', 'similarityScore': 0.25}, {'iata': 'GOT', 'city': 'Gothenburg', 'similarityScore': 0.234375}, {'iata': 'TLL', 'city': 'Tallinn', 'similarityScore': 0.22916666666666666}, {'iata': 'VXO', 'city': 'Växjö', 'similarityScore': 0.21739130434782608}, {'iata': 'SVG', 'city': 'Stavanger', 'similarityScore': 0.21153846153846154}, {'iata': 'HAU', 'city': 'Karmøy', 'similarityScore': 0.20833333333333334}, {'iata': 'KRS', 'city': 'Kjevik', 'similarityScore': 0.20833333333333334}, {'iata': 'OSD', 'city': 'Östersund', 'similarityScore': 0.2}, {'iata': 'AOI', 'city': 'Ancona', 'similarityScore': 0.19230769230769232}, {'iata': 'XRY', 'city': 'Jerez de la Forntera', 'similarityScore': 0.1875}]</td>\n",
       "    </tr>\n",
       "    <tr>\n",
       "      <th>2</th>\n",
       "      <td>YXX</td>\n",
       "      <td>Abbotsford</td>\n",
       "      <td>[{'iata': 'YQU', 'city': 'Grande Prairie', 'similarityScore': 0.2857142857142857}, {'iata': 'YQR', 'city': 'Regina', 'similarityScore': 0.23529411764705882}, {'iata': 'YQQ', 'city': 'Comox', 'similarityScore': 0.2222222222222222}, {'iata': 'YHM', 'city': 'Hamilton', 'similarityScore': 0.21052631578947367}, {'iata': 'YXJ', 'city': 'Fort St.John', 'similarityScore': 0.2}, {'iata': 'YXE', 'city': 'Saskatoon', 'similarityScore': 0.2}, {'iata': 'YLW', 'city': 'Kelowna', 'similarityScore': 0.1875}, {'iata': 'YXU', 'city': 'London', 'similarityScore': 0.17647058823529413}, {'iata': 'YMM', 'city': 'Fort McMurray', 'similarityScore': 0.16666666666666666}, {'iata': 'YXS', 'city': 'Prince George', 'similarityScore': 0.14285714285714285}]</td>\n",
       "    </tr>\n",
       "    <tr>\n",
       "      <th>3</th>\n",
       "      <td>ABR</td>\n",
       "      <td>Aberdeen</td>\n",
       "      <td>[{'iata': 'HIB', 'city': 'Hibbing', 'similarityScore': 1.0}, {'iata': 'BJI', 'city': 'Bemidji', 'similarityScore': 1.0}, {'iata': 'ISN', 'city': 'Williston', 'similarityScore': 0.5}, {'iata': 'ATY', 'city': 'Watertown', 'similarityScore': 0.5}, {'iata': 'RHI', 'city': 'Rhinelander', 'similarityScore': 0.5}, {'iata': 'INL', 'city': 'International Falls', 'similarityScore': 0.5}, {'iata': 'APN', 'city': 'Alpena', 'similarityScore': 0.5}, {'iata': 'BRD', 'city': 'Brainerd', 'similarityScore': 0.5}, {'iata': 'DIK', 'city': 'Dickinson', 'similarityScore': 0.5}, {'iata': 'LSE', 'city': 'La Crosse', 'similarityScore': 0.3333333333333333}]</td>\n",
       "    </tr>\n",
       "    <tr>\n",
       "      <th>4</th>\n",
       "      <td>ABZ</td>\n",
       "      <td>Aberdeen</td>\n",
       "      <td>[{'iata': 'INV', 'city': 'Inverness', 'similarityScore': 0.3023255813953488}, {'iata': 'MJV', 'city': 'San Javier', 'similarityScore': 0.2708333333333333}, {'iata': 'JER', 'city': 'Saint Helier', 'similarityScore': 0.25862068965517243}, {'iata': 'GLA', 'city': 'Glasgow', 'similarityScore': 0.24528301886792453}, {'iata': 'NCL', 'city': 'Newcastle', 'similarityScore': 0.24050632911392406}, {'iata': 'BHD', 'city': 'Belfast', 'similarityScore': 0.23529411764705882}, {'iata': 'GOT', 'city': 'Gothenburg', 'similarityScore': 0.23170731707317074}, {'iata': 'BLL', 'city': 'Billund', 'similarityScore': 0.22784810126582278}, {'iata': 'ORK', 'city': 'Cork', 'similarityScore': 0.22727272727272727}, {'iata': 'EDI', 'city': 'Edinburgh', 'similarityScore': 0.22377622377622378}]</td>\n",
       "    </tr>\n",
       "  </tbody>\n",
       "</table>\n",
       "</div>"
      ],
      "text/plain": [
       "  iata        city                                                                                                                                                                                                                                                                                                                                                                                                                                                                                                                                                                                                                                                                                                                                                                                       similarAirports\n",
       "0  AAL     Aalborg                                              [{'iata': 'KRS', 'city': 'Kjevik', 'similarityScore': 0.3333333333333333}, {'iata': 'HAU', 'city': 'Karmøy', 'similarityScore': 0.2727272727272727}, {'iata': 'SZZ', 'city': 'Goleniow', 'similarityScore': 0.2608695652173913}, {'iata': 'AAR', 'city': 'Aarhus', 'similarityScore': 0.25}, {'iata': 'TRF', 'city': 'Torp', 'similarityScore': 0.24444444444444444}, {'iata': 'BLL', 'city': 'Billund', 'similarityScore': 0.23333333333333334}, {'iata': 'AES', 'city': 'Ålesund', 'similarityScore': 0.22727272727272727}, {'iata': 'GOT', 'city': 'Gothenburg', 'similarityScore': 0.21875}, {'iata': 'SVG', 'city': 'Stavanger', 'similarityScore': 0.21568627450980393}, {'iata': 'KYA', 'city': 'Konya', 'similarityScore': 0.21052631578947367}]\n",
       "1  AAR      Aarhus                                                      [{'iata': 'AAL', 'city': 'Aalborg', 'similarityScore': 0.25}, {'iata': 'GOT', 'city': 'Gothenburg', 'similarityScore': 0.234375}, {'iata': 'TLL', 'city': 'Tallinn', 'similarityScore': 0.22916666666666666}, {'iata': 'VXO', 'city': 'Växjö', 'similarityScore': 0.21739130434782608}, {'iata': 'SVG', 'city': 'Stavanger', 'similarityScore': 0.21153846153846154}, {'iata': 'HAU', 'city': 'Karmøy', 'similarityScore': 0.20833333333333334}, {'iata': 'KRS', 'city': 'Kjevik', 'similarityScore': 0.20833333333333334}, {'iata': 'OSD', 'city': 'Östersund', 'similarityScore': 0.2}, {'iata': 'AOI', 'city': 'Ancona', 'similarityScore': 0.19230769230769232}, {'iata': 'XRY', 'city': 'Jerez de la Forntera', 'similarityScore': 0.1875}]\n",
       "2  YXX  Abbotsford                                      [{'iata': 'YQU', 'city': 'Grande Prairie', 'similarityScore': 0.2857142857142857}, {'iata': 'YQR', 'city': 'Regina', 'similarityScore': 0.23529411764705882}, {'iata': 'YQQ', 'city': 'Comox', 'similarityScore': 0.2222222222222222}, {'iata': 'YHM', 'city': 'Hamilton', 'similarityScore': 0.21052631578947367}, {'iata': 'YXJ', 'city': 'Fort St.John', 'similarityScore': 0.2}, {'iata': 'YXE', 'city': 'Saskatoon', 'similarityScore': 0.2}, {'iata': 'YLW', 'city': 'Kelowna', 'similarityScore': 0.1875}, {'iata': 'YXU', 'city': 'London', 'similarityScore': 0.17647058823529413}, {'iata': 'YMM', 'city': 'Fort McMurray', 'similarityScore': 0.16666666666666666}, {'iata': 'YXS', 'city': 'Prince George', 'similarityScore': 0.14285714285714285}]\n",
       "3  ABR    Aberdeen                                                                                                                                       [{'iata': 'HIB', 'city': 'Hibbing', 'similarityScore': 1.0}, {'iata': 'BJI', 'city': 'Bemidji', 'similarityScore': 1.0}, {'iata': 'ISN', 'city': 'Williston', 'similarityScore': 0.5}, {'iata': 'ATY', 'city': 'Watertown', 'similarityScore': 0.5}, {'iata': 'RHI', 'city': 'Rhinelander', 'similarityScore': 0.5}, {'iata': 'INL', 'city': 'International Falls', 'similarityScore': 0.5}, {'iata': 'APN', 'city': 'Alpena', 'similarityScore': 0.5}, {'iata': 'BRD', 'city': 'Brainerd', 'similarityScore': 0.5}, {'iata': 'DIK', 'city': 'Dickinson', 'similarityScore': 0.5}, {'iata': 'LSE', 'city': 'La Crosse', 'similarityScore': 0.3333333333333333}]\n",
       "4  ABZ    Aberdeen  [{'iata': 'INV', 'city': 'Inverness', 'similarityScore': 0.3023255813953488}, {'iata': 'MJV', 'city': 'San Javier', 'similarityScore': 0.2708333333333333}, {'iata': 'JER', 'city': 'Saint Helier', 'similarityScore': 0.25862068965517243}, {'iata': 'GLA', 'city': 'Glasgow', 'similarityScore': 0.24528301886792453}, {'iata': 'NCL', 'city': 'Newcastle', 'similarityScore': 0.24050632911392406}, {'iata': 'BHD', 'city': 'Belfast', 'similarityScore': 0.23529411764705882}, {'iata': 'GOT', 'city': 'Gothenburg', 'similarityScore': 0.23170731707317074}, {'iata': 'BLL', 'city': 'Billund', 'similarityScore': 0.22784810126582278}, {'iata': 'ORK', 'city': 'Cork', 'similarityScore': 0.22727272727272727}, {'iata': 'EDI', 'city': 'Edinburgh', 'similarityScore': 0.22377622377622378}]"
      ]
     },
     "execution_count": 44,
     "metadata": {},
     "output_type": "execute_result"
    }
   ],
   "source": [
    "# Define the Cypher query to Extract Node similarity Algorithm Results \n",
    "def execute_query(driver, query):\n",
    "    with driver.session() as session:\n",
    "        result = session.run(query)\n",
    "        return [record.data() for record in result]\n",
    "\n",
    "query = \"\"\"\n",
    "CALL gds.nodeSimilarity.stream('routes')\n",
    "YIELD node1, node2, similarity\n",
    "WITH gds.util.asNode(node1) AS n1, gds.util.asNode(node2) AS n2, similarity\n",
    "RETURN\n",
    "    n1.iata AS iata,\n",
    "    n1.city AS city,\n",
    "    COLLECT({iata:n2.iata, city:n2.city, similarityScore: similarity}) AS similarAirports\n",
    "ORDER BY city LIMIT 20\n",
    "\"\"\"\n",
    "\n",
    "try:\n",
    "    results = execute_query(driver, query)\n",
    "    print(\"Node similarity Algorithm Results:\\n\")\n",
    "except Exception as e:\n",
    "    print(f\"Error running Node similarity Algorithm: {e}\")\n",
    "\n",
    "# Convert the results to a DataFrame\n",
    "df = pd.DataFrame(results)\n",
    "\n",
    "pd.set_option('display.max_columns', None)\n",
    "pd.set_option('display.width', 1000)\n",
    "pd.set_option('display.max_rows', None)\n",
    "pd.set_option('display.max_colwidth', None)\n",
    "\n",
    "# Display the DataFrame\n",
    "df.head()"
   ]
  },
  {
   "cell_type": "code",
   "execution_count": null,
   "id": "fbebad6a",
   "metadata": {},
   "outputs": [],
   "source": []
  },
  {
   "cell_type": "code",
   "execution_count": 45,
   "id": "77ad52e6",
   "metadata": {},
   "outputs": [
    {
     "name": "stdout",
     "output_type": "stream",
     "text": [
      "Node similarity Algorithm Results:\n",
      "\n"
     ]
    },
    {
     "data": {
      "text/html": [
       "<div>\n",
       "<style scoped>\n",
       "    .dataframe tbody tr th:only-of-type {\n",
       "        vertical-align: middle;\n",
       "    }\n",
       "\n",
       "    .dataframe tbody tr th {\n",
       "        vertical-align: top;\n",
       "    }\n",
       "\n",
       "    .dataframe thead th {\n",
       "        text-align: right;\n",
       "    }\n",
       "</style>\n",
       "<table border=\"1\" class=\"dataframe\">\n",
       "  <thead>\n",
       "    <tr style=\"text-align: right;\">\n",
       "      <th></th>\n",
       "      <th>iata</th>\n",
       "      <th>city</th>\n",
       "      <th>similarAirports</th>\n",
       "    </tr>\n",
       "  </thead>\n",
       "  <tbody>\n",
       "    <tr>\n",
       "      <th>0</th>\n",
       "      <td>AAL</td>\n",
       "      <td>Aalborg</td>\n",
       "      <td>[{'iata': 'KRS', 'city': 'Kjevik', 'similarityScore': 0.3333333333333333}, {'iata': 'HAU', 'city': 'Karmøy', 'similarityScore': 0.2727272727272727}, {'iata': 'SZZ', 'city': 'Goleniow', 'similarityScore': 0.2608695652173913}]</td>\n",
       "    </tr>\n",
       "    <tr>\n",
       "      <th>1</th>\n",
       "      <td>AAR</td>\n",
       "      <td>Aarhus</td>\n",
       "      <td>[{'iata': 'AAL', 'city': 'Aalborg', 'similarityScore': 0.25}, {'iata': 'GOT', 'city': 'Gothenburg', 'similarityScore': 0.234375}, {'iata': 'TLL', 'city': 'Tallinn', 'similarityScore': 0.22916666666666666}]</td>\n",
       "    </tr>\n",
       "    <tr>\n",
       "      <th>2</th>\n",
       "      <td>YXX</td>\n",
       "      <td>Abbotsford</td>\n",
       "      <td>[{'iata': 'YQU', 'city': 'Grande Prairie', 'similarityScore': 0.2857142857142857}, {'iata': 'YQR', 'city': 'Regina', 'similarityScore': 0.23529411764705882}, {'iata': 'YQQ', 'city': 'Comox', 'similarityScore': 0.2222222222222222}]</td>\n",
       "    </tr>\n",
       "    <tr>\n",
       "      <th>3</th>\n",
       "      <td>ABR</td>\n",
       "      <td>Aberdeen</td>\n",
       "      <td>[{'iata': 'HIB', 'city': 'Hibbing', 'similarityScore': 1.0}, {'iata': 'BJI', 'city': 'Bemidji', 'similarityScore': 1.0}, {'iata': 'ISN', 'city': 'Williston', 'similarityScore': 0.5}]</td>\n",
       "    </tr>\n",
       "    <tr>\n",
       "      <th>4</th>\n",
       "      <td>ABZ</td>\n",
       "      <td>Aberdeen</td>\n",
       "      <td>[{'iata': 'INV', 'city': 'Inverness', 'similarityScore': 0.3023255813953488}, {'iata': 'MJV', 'city': 'San Javier', 'similarityScore': 0.2708333333333333}, {'iata': 'JER', 'city': 'Saint Helier', 'similarityScore': 0.25862068965517243}]</td>\n",
       "    </tr>\n",
       "    <tr>\n",
       "      <th>5</th>\n",
       "      <td>AHB</td>\n",
       "      <td>Abha</td>\n",
       "      <td>[{'iata': 'ELQ', 'city': 'Buraidah', 'similarityScore': 0.5}, {'iata': 'YNB', 'city': 'Yenbo', 'similarityScore': 0.4375}, {'iata': 'HAS', 'city': 'Ha'il', 'similarityScore': 0.4}]</td>\n",
       "    </tr>\n",
       "    <tr>\n",
       "      <th>6</th>\n",
       "      <td>ABJ</td>\n",
       "      <td>Abidjan</td>\n",
       "      <td>[{'iata': 'BKO', 'city': 'Senou', 'similarityScore': 0.5}, {'iata': 'OUA', 'city': 'Ouagadougou', 'similarityScore': 0.4444444444444444}, {'iata': 'DKR', 'city': 'Dakar', 'similarityScore': 0.4}]</td>\n",
       "    </tr>\n",
       "    <tr>\n",
       "      <th>7</th>\n",
       "      <td>ABI</td>\n",
       "      <td>Abilene</td>\n",
       "      <td>[{'iata': 'ACT', 'city': 'Waco', 'similarityScore': 1.0}, {'iata': 'BPT', 'city': 'Beaumont/Port Arthur', 'similarityScore': 1.0}, {'iata': 'TXK', 'city': 'Texarkana', 'similarityScore': 1.0}]</td>\n",
       "    </tr>\n",
       "    <tr>\n",
       "      <th>8</th>\n",
       "      <td>AZI</td>\n",
       "      <td>Abu Dhabi</td>\n",
       "      <td>[{'iata': 'XSB', 'city': 'Sir Bani Yas Island', 'similarityScore': 0.2}, {'iata': 'BDH', 'city': 'Bandar Lengeh', 'similarityScore': 0.2}, {'iata': 'LFM', 'city': 'Lamerd', 'similarityScore': 0.16666666666666666}]</td>\n",
       "    </tr>\n",
       "    <tr>\n",
       "      <th>9</th>\n",
       "      <td>AUH</td>\n",
       "      <td>Abu Dhabi</td>\n",
       "      <td>[{'iata': 'DOH', 'city': 'Doha', 'similarityScore': 0.43781094527363185}, {'iata': 'MCT', 'city': 'Muscat', 'similarityScore': 0.4032258064516129}, {'iata': 'DXB', 'city': 'Dubai', 'similarityScore': 0.37254901960784315}]</td>\n",
       "    </tr>\n",
       "    <tr>\n",
       "      <th>10</th>\n",
       "      <td>ABV</td>\n",
       "      <td>Abuja</td>\n",
       "      <td>[{'iata': 'LOS', 'city': 'Lagos', 'similarityScore': 0.3448275862068966}, {'iata': 'LBV', 'city': 'Libreville', 'similarityScore': 0.20512820512820512}, {'iata': 'COO', 'city': 'Cotonou', 'similarityScore': 0.1951219512195122}]</td>\n",
       "    </tr>\n",
       "    <tr>\n",
       "      <th>11</th>\n",
       "      <td>ACA</td>\n",
       "      <td>Acapulco</td>\n",
       "      <td>[{'iata': 'OAX', 'city': 'Oaxaca', 'similarityScore': 0.5833333333333334}, {'iata': 'AGU', 'city': 'Aguascalientes', 'similarityScore': 0.5454545454545454}, {'iata': 'DGO', 'city': 'Durango', 'similarityScore': 0.5}]</td>\n",
       "    </tr>\n",
       "    <tr>\n",
       "      <th>12</th>\n",
       "      <td>ACC</td>\n",
       "      <td>Accra</td>\n",
       "      <td>[{'iata': 'LOS', 'city': 'Lagos', 'similarityScore': 0.3442622950819672}, {'iata': 'DKR', 'city': 'Dakar', 'similarityScore': 0.32}, {'iata': 'BKO', 'city': 'Senou', 'similarityScore': 0.2682926829268293}]</td>\n",
       "    </tr>\n",
       "    <tr>\n",
       "      <th>13</th>\n",
       "      <td>DMM</td>\n",
       "      <td>Ad Dammam</td>\n",
       "      <td>[{'iata': 'RUH', 'city': 'Riyadh', 'similarityScore': 0.3854166666666667}, {'iata': 'MED', 'city': 'Medina', 'similarityScore': 0.3392857142857143}, {'iata': 'BAH', 'city': 'Manama', 'similarityScore': 0.30985915492957744}]</td>\n",
       "    </tr>\n",
       "    <tr>\n",
       "      <th>14</th>\n",
       "      <td>ADK</td>\n",
       "      <td>Adak Island</td>\n",
       "      <td>[{'iata': 'HOM', 'city': 'Homer', 'similarityScore': 1.0}, {'iata': 'ILI', 'city': 'Iliamna', 'similarityScore': 1.0}, {'iata': 'ENA', 'city': 'Kenai', 'similarityScore': 1.0}]</td>\n",
       "    </tr>\n",
       "    <tr>\n",
       "      <th>15</th>\n",
       "      <td>ADA</td>\n",
       "      <td>Adana</td>\n",
       "      <td>[{'iata': 'EZS', 'city': 'Elazığ', 'similarityScore': 0.4117647058823529}, {'iata': 'HTY', 'city': 'Hatay', 'similarityScore': 0.3684210526315789}, {'iata': 'GZT', 'city': 'Gaziantep', 'similarityScore': 0.3333333333333333}]</td>\n",
       "    </tr>\n",
       "    <tr>\n",
       "      <th>16</th>\n",
       "      <td>ADD</td>\n",
       "      <td>Addis Ababa</td>\n",
       "      <td>[{'iata': 'NBO', 'city': 'Nairobi', 'similarityScore': 0.3644067796610169}, {'iata': 'CAI', 'city': 'Cairo', 'similarityScore': 0.25}, {'iata': 'JNB', 'city': 'Johannesburg', 'similarityScore': 0.22972972972972974}]</td>\n",
       "    </tr>\n",
       "    <tr>\n",
       "      <th>17</th>\n",
       "      <td>ADL</td>\n",
       "      <td>Adelaide</td>\n",
       "      <td>[{'iata': 'MEL', 'city': 'Melbourne', 'similarityScore': 0.2823529411764706}, {'iata': 'PER', 'city': 'Perth', 'similarityScore': 0.2698412698412698}, {'iata': 'DRW', 'city': 'Darwin', 'similarityScore': 0.2127659574468085}]</td>\n",
       "    </tr>\n",
       "    <tr>\n",
       "      <th>18</th>\n",
       "      <td>ADE</td>\n",
       "      <td>Aden</td>\n",
       "      <td>[{'iata': 'ELQ', 'city': 'Buraidah', 'similarityScore': 0.4444444444444444}, {'iata': 'SAH', 'city': 'Sana'a', 'similarityScore': 0.39285714285714285}, {'iata': 'YNB', 'city': 'Yenbo', 'similarityScore': 0.3888888888888889}]</td>\n",
       "    </tr>\n",
       "    <tr>\n",
       "      <th>19</th>\n",
       "      <td>AZR</td>\n",
       "      <td>Adrar</td>\n",
       "      <td>[{'iata': 'GHA', 'city': 'Ghardaïa', 'similarityScore': 0.42857142857142855}, {'iata': 'HME', 'city': 'Hassi Messaoud', 'similarityScore': 0.3333333333333333}, {'iata': 'OGX', 'city': 'Ouargla', 'similarityScore': 0.2222222222222222}]</td>\n",
       "    </tr>\n",
       "  </tbody>\n",
       "</table>\n",
       "</div>"
      ],
      "text/plain": [
       "   iata         city                                                                                                                                                                                                                               similarAirports\n",
       "0   AAL      Aalborg              [{'iata': 'KRS', 'city': 'Kjevik', 'similarityScore': 0.3333333333333333}, {'iata': 'HAU', 'city': 'Karmøy', 'similarityScore': 0.2727272727272727}, {'iata': 'SZZ', 'city': 'Goleniow', 'similarityScore': 0.2608695652173913}]\n",
       "1   AAR       Aarhus                                 [{'iata': 'AAL', 'city': 'Aalborg', 'similarityScore': 0.25}, {'iata': 'GOT', 'city': 'Gothenburg', 'similarityScore': 0.234375}, {'iata': 'TLL', 'city': 'Tallinn', 'similarityScore': 0.22916666666666666}]\n",
       "2   YXX   Abbotsford        [{'iata': 'YQU', 'city': 'Grande Prairie', 'similarityScore': 0.2857142857142857}, {'iata': 'YQR', 'city': 'Regina', 'similarityScore': 0.23529411764705882}, {'iata': 'YQQ', 'city': 'Comox', 'similarityScore': 0.2222222222222222}]\n",
       "3   ABR     Aberdeen                                                        [{'iata': 'HIB', 'city': 'Hibbing', 'similarityScore': 1.0}, {'iata': 'BJI', 'city': 'Bemidji', 'similarityScore': 1.0}, {'iata': 'ISN', 'city': 'Williston', 'similarityScore': 0.5}]\n",
       "4   ABZ     Aberdeen  [{'iata': 'INV', 'city': 'Inverness', 'similarityScore': 0.3023255813953488}, {'iata': 'MJV', 'city': 'San Javier', 'similarityScore': 0.2708333333333333}, {'iata': 'JER', 'city': 'Saint Helier', 'similarityScore': 0.25862068965517243}]\n",
       "5   AHB         Abha                                                          [{'iata': 'ELQ', 'city': 'Buraidah', 'similarityScore': 0.5}, {'iata': 'YNB', 'city': 'Yenbo', 'similarityScore': 0.4375}, {'iata': 'HAS', 'city': 'Ha'il', 'similarityScore': 0.4}]\n",
       "6   ABJ      Abidjan                                           [{'iata': 'BKO', 'city': 'Senou', 'similarityScore': 0.5}, {'iata': 'OUA', 'city': 'Ouagadougou', 'similarityScore': 0.4444444444444444}, {'iata': 'DKR', 'city': 'Dakar', 'similarityScore': 0.4}]\n",
       "7   ABI      Abilene                                              [{'iata': 'ACT', 'city': 'Waco', 'similarityScore': 1.0}, {'iata': 'BPT', 'city': 'Beaumont/Port Arthur', 'similarityScore': 1.0}, {'iata': 'TXK', 'city': 'Texarkana', 'similarityScore': 1.0}]\n",
       "8   AZI    Abu Dhabi                         [{'iata': 'XSB', 'city': 'Sir Bani Yas Island', 'similarityScore': 0.2}, {'iata': 'BDH', 'city': 'Bandar Lengeh', 'similarityScore': 0.2}, {'iata': 'LFM', 'city': 'Lamerd', 'similarityScore': 0.16666666666666666}]\n",
       "9   AUH    Abu Dhabi                 [{'iata': 'DOH', 'city': 'Doha', 'similarityScore': 0.43781094527363185}, {'iata': 'MCT', 'city': 'Muscat', 'similarityScore': 0.4032258064516129}, {'iata': 'DXB', 'city': 'Dubai', 'similarityScore': 0.37254901960784315}]\n",
       "10  ABV        Abuja           [{'iata': 'LOS', 'city': 'Lagos', 'similarityScore': 0.3448275862068966}, {'iata': 'LBV', 'city': 'Libreville', 'similarityScore': 0.20512820512820512}, {'iata': 'COO', 'city': 'Cotonou', 'similarityScore': 0.1951219512195122}]\n",
       "11  ACA     Acapulco                      [{'iata': 'OAX', 'city': 'Oaxaca', 'similarityScore': 0.5833333333333334}, {'iata': 'AGU', 'city': 'Aguascalientes', 'similarityScore': 0.5454545454545454}, {'iata': 'DGO', 'city': 'Durango', 'similarityScore': 0.5}]\n",
       "12  ACC        Accra                                 [{'iata': 'LOS', 'city': 'Lagos', 'similarityScore': 0.3442622950819672}, {'iata': 'DKR', 'city': 'Dakar', 'similarityScore': 0.32}, {'iata': 'BKO', 'city': 'Senou', 'similarityScore': 0.2682926829268293}]\n",
       "13  DMM    Ad Dammam               [{'iata': 'RUH', 'city': 'Riyadh', 'similarityScore': 0.3854166666666667}, {'iata': 'MED', 'city': 'Medina', 'similarityScore': 0.3392857142857143}, {'iata': 'BAH', 'city': 'Manama', 'similarityScore': 0.30985915492957744}]\n",
       "14  ADK  Adak Island                                                              [{'iata': 'HOM', 'city': 'Homer', 'similarityScore': 1.0}, {'iata': 'ILI', 'city': 'Iliamna', 'similarityScore': 1.0}, {'iata': 'ENA', 'city': 'Kenai', 'similarityScore': 1.0}]\n",
       "15  ADA        Adana              [{'iata': 'EZS', 'city': 'Elazığ', 'similarityScore': 0.4117647058823529}, {'iata': 'HTY', 'city': 'Hatay', 'similarityScore': 0.3684210526315789}, {'iata': 'GZT', 'city': 'Gaziantep', 'similarityScore': 0.3333333333333333}]\n",
       "16  ADD  Addis Ababa                       [{'iata': 'NBO', 'city': 'Nairobi', 'similarityScore': 0.3644067796610169}, {'iata': 'CAI', 'city': 'Cairo', 'similarityScore': 0.25}, {'iata': 'JNB', 'city': 'Johannesburg', 'similarityScore': 0.22972972972972974}]\n",
       "17  ADL     Adelaide              [{'iata': 'MEL', 'city': 'Melbourne', 'similarityScore': 0.2823529411764706}, {'iata': 'PER', 'city': 'Perth', 'similarityScore': 0.2698412698412698}, {'iata': 'DRW', 'city': 'Darwin', 'similarityScore': 0.2127659574468085}]\n",
       "18  ADE         Aden              [{'iata': 'ELQ', 'city': 'Buraidah', 'similarityScore': 0.4444444444444444}, {'iata': 'SAH', 'city': 'Sana'a', 'similarityScore': 0.39285714285714285}, {'iata': 'YNB', 'city': 'Yenbo', 'similarityScore': 0.3888888888888889}]\n",
       "19  AZR        Adrar    [{'iata': 'GHA', 'city': 'Ghardaïa', 'similarityScore': 0.42857142857142855}, {'iata': 'HME', 'city': 'Hassi Messaoud', 'similarityScore': 0.3333333333333333}, {'iata': 'OGX', 'city': 'Ouargla', 'similarityScore': 0.2222222222222222}]"
      ]
     },
     "execution_count": 45,
     "metadata": {},
     "output_type": "execute_result"
    }
   ],
   "source": [
    "# Define the Cypher query to Extract Node similarity Algorithm Results for  top 3 most similar airports for each airport node in the graph\n",
    "def execute_query(driver, query):\n",
    "    with driver.session() as session:\n",
    "        result = session.run(query)\n",
    "        return [record.data() for record in result]\n",
    "\n",
    "query = \"\"\"\n",
    "CALL gds.nodeSimilarity.stream(\n",
    "    'routes',\n",
    "    {\n",
    "        topK: 3\n",
    "    }\n",
    ")\n",
    "YIELD node1, node2, similarity\n",
    "WITH gds.util.asNode(node1) AS n1, gds.util.asNode(node2) AS n2, similarity\n",
    "RETURN\n",
    "    n1.iata AS iata,\n",
    "    n1.city AS city,\n",
    "    COLLECT({iata:n2.iata, city:n2.city, similarityScore: similarity}) AS similarAirports\n",
    "ORDER BY city LIMIT 20\n",
    "\"\"\"\n",
    "\n",
    "try:\n",
    "    results = execute_query(driver, query)\n",
    "    print(\"Node similarity Algorithm Results:\\n\")\n",
    "except Exception as e:\n",
    "    print(f\"Error running Node similarity Algorithm: {e}\")\n",
    "\n",
    "# Convert the results to a DataFrame\n",
    "df = pd.DataFrame(results)\n",
    "\n",
    "pd.set_option('display.max_columns', None)\n",
    "pd.set_option('display.width', 1000)\n",
    "pd.set_option('display.max_rows', None)\n",
    "pd.set_option('display.max_colwidth', None)\n",
    "\n",
    "# Display the DataFrame\n",
    "df"
   ]
  },
  {
   "cell_type": "code",
   "execution_count": 46,
   "id": "3ceec884",
   "metadata": {},
   "outputs": [
    {
     "name": "stdout",
     "output_type": "stream",
     "text": [
      "Node similarity Algorithm Results:\n",
      "\n"
     ]
    },
    {
     "data": {
      "text/html": [
       "<div>\n",
       "<style scoped>\n",
       "    .dataframe tbody tr th:only-of-type {\n",
       "        vertical-align: middle;\n",
       "    }\n",
       "\n",
       "    .dataframe tbody tr th {\n",
       "        vertical-align: top;\n",
       "    }\n",
       "\n",
       "    .dataframe thead th {\n",
       "        text-align: right;\n",
       "    }\n",
       "</style>\n",
       "<table border=\"1\" class=\"dataframe\">\n",
       "  <thead>\n",
       "    <tr style=\"text-align: right;\">\n",
       "      <th></th>\n",
       "      <th>iata</th>\n",
       "      <th>city</th>\n",
       "      <th>similarAirport</th>\n",
       "      <th>similarityScore</th>\n",
       "    </tr>\n",
       "  </thead>\n",
       "  <tbody>\n",
       "    <tr>\n",
       "      <th>0</th>\n",
       "      <td>ABI</td>\n",
       "      <td>Abilene</td>\n",
       "      <td>{'iata': 'TXK', 'city': 'Texarkana'}</td>\n",
       "      <td>1.0</td>\n",
       "    </tr>\n",
       "    <tr>\n",
       "      <th>1</th>\n",
       "      <td>AEX</td>\n",
       "      <td>Alexandria</td>\n",
       "      <td>{'iata': 'GRK', 'city': 'Fort Hood/Killeen'}</td>\n",
       "      <td>1.0</td>\n",
       "    </tr>\n",
       "    <tr>\n",
       "      <th>2</th>\n",
       "      <td>BPT</td>\n",
       "      <td>Beaumont/Port Arthur</td>\n",
       "      <td>{'iata': 'TXK', 'city': 'Texarkana'}</td>\n",
       "      <td>1.0</td>\n",
       "    </tr>\n",
       "    <tr>\n",
       "      <th>3</th>\n",
       "      <td>CLL</td>\n",
       "      <td>College Station</td>\n",
       "      <td>{'iata': 'LCH', 'city': 'Lake Charles'}</td>\n",
       "      <td>1.0</td>\n",
       "    </tr>\n",
       "    <tr>\n",
       "      <th>4</th>\n",
       "      <td>DRO</td>\n",
       "      <td>Durango</td>\n",
       "      <td>{'iata': 'SAF', 'city': 'Santa Fe'}</td>\n",
       "      <td>1.0</td>\n",
       "    </tr>\n",
       "    <tr>\n",
       "      <th>5</th>\n",
       "      <td>GCK</td>\n",
       "      <td>Garden City</td>\n",
       "      <td>{'iata': 'TXK', 'city': 'Texarkana'}</td>\n",
       "      <td>1.0</td>\n",
       "    </tr>\n",
       "    <tr>\n",
       "      <th>6</th>\n",
       "      <td>IAG</td>\n",
       "      <td>Niagara Falls</td>\n",
       "      <td>{'iata': 'PSM', 'city': 'Portsmouth'}</td>\n",
       "      <td>1.0</td>\n",
       "    </tr>\n",
       "    <tr>\n",
       "      <th>7</th>\n",
       "      <td>SAF</td>\n",
       "      <td>Santa Fe</td>\n",
       "      <td>{'iata': 'DRO', 'city': 'Durango'}</td>\n",
       "      <td>1.0</td>\n",
       "    </tr>\n",
       "    <tr>\n",
       "      <th>8</th>\n",
       "      <td>TXK</td>\n",
       "      <td>Texarkana</td>\n",
       "      <td>{'iata': 'ABI', 'city': 'Abilene'}</td>\n",
       "      <td>1.0</td>\n",
       "    </tr>\n",
       "    <tr>\n",
       "      <th>9</th>\n",
       "      <td>ACT</td>\n",
       "      <td>Waco</td>\n",
       "      <td>{'iata': 'TXK', 'city': 'Texarkana'}</td>\n",
       "      <td>1.0</td>\n",
       "    </tr>\n",
       "  </tbody>\n",
       "</table>\n",
       "</div>"
      ],
      "text/plain": [
       "  iata                  city                                similarAirport  similarityScore\n",
       "0  ABI               Abilene          {'iata': 'TXK', 'city': 'Texarkana'}              1.0\n",
       "1  AEX            Alexandria  {'iata': 'GRK', 'city': 'Fort Hood/Killeen'}              1.0\n",
       "2  BPT  Beaumont/Port Arthur          {'iata': 'TXK', 'city': 'Texarkana'}              1.0\n",
       "3  CLL       College Station       {'iata': 'LCH', 'city': 'Lake Charles'}              1.0\n",
       "4  DRO               Durango           {'iata': 'SAF', 'city': 'Santa Fe'}              1.0\n",
       "5  GCK           Garden City          {'iata': 'TXK', 'city': 'Texarkana'}              1.0\n",
       "6  IAG         Niagara Falls         {'iata': 'PSM', 'city': 'Portsmouth'}              1.0\n",
       "7  SAF              Santa Fe            {'iata': 'DRO', 'city': 'Durango'}              1.0\n",
       "8  TXK             Texarkana            {'iata': 'ABI', 'city': 'Abilene'}              1.0\n",
       "9  ACT                  Waco          {'iata': 'TXK', 'city': 'Texarkana'}              1.0"
      ]
     },
     "execution_count": 46,
     "metadata": {},
     "output_type": "execute_result"
    }
   ],
   "source": [
    "# Define the Cypher query to Extract Node similarity Algorithm Results for each airport and then returned the 10 airport pairs with the highest similarity across the whole graph.\n",
    "def execute_query(driver, query):\n",
    "    with driver.session() as session:\n",
    "        result = session.run(query)\n",
    "        return [record.data() for record in result]\n",
    "\n",
    "query = \"\"\"\n",
    "CALL gds.nodeSimilarity.stream(\n",
    "    'routes',\n",
    "    {\n",
    "        topK: 1,\n",
    "        topN: 10\n",
    "    }\n",
    ")\n",
    "YIELD node1, node2, similarity\n",
    "WITH gds.util.asNode(node1) AS n1, gds.util.asNode(node2) AS n2, similarity AS similarityScore\n",
    "RETURN\n",
    "    n1.iata AS iata,\n",
    "    n1.city AS city,\n",
    "    {iata:n2.iata, city:n2.city} AS similarAirport,\n",
    "    similarityScore\n",
    "ORDER BY city\n",
    "\"\"\"\n",
    "\n",
    "try:\n",
    "    results = execute_query(driver, query)\n",
    "    print(\"Node similarity Algorithm Results:\\n\")\n",
    "except Exception as e:\n",
    "    print(f\"Error running Node similarity Algorithm: {e}\")\n",
    "\n",
    "# Convert the results to a DataFrame\n",
    "df = pd.DataFrame(results)\n",
    "\n",
    "pd.set_option('display.max_columns', None)\n",
    "pd.set_option('display.width', 1000)\n",
    "pd.set_option('display.max_rows', None)\n",
    "pd.set_option('display.max_colwidth', None)\n",
    "\n",
    "# Display the DataFrame\n",
    "df"
   ]
  },
  {
   "cell_type": "code",
   "execution_count": 47,
   "id": "712c3c0f",
   "metadata": {},
   "outputs": [
    {
     "name": "stdout",
     "output_type": "stream",
     "text": [
      "Node similarity Algorithm Results:\n",
      "\n"
     ]
    },
    {
     "data": {
      "text/html": [
       "<div>\n",
       "<style scoped>\n",
       "    .dataframe tbody tr th:only-of-type {\n",
       "        vertical-align: middle;\n",
       "    }\n",
       "\n",
       "    .dataframe tbody tr th {\n",
       "        vertical-align: top;\n",
       "    }\n",
       "\n",
       "    .dataframe thead th {\n",
       "        text-align: right;\n",
       "    }\n",
       "</style>\n",
       "<table border=\"1\" class=\"dataframe\">\n",
       "  <thead>\n",
       "    <tr style=\"text-align: right;\">\n",
       "      <th></th>\n",
       "      <th>iata</th>\n",
       "      <th>city</th>\n",
       "      <th>similarAirport</th>\n",
       "      <th>similarityScore</th>\n",
       "    </tr>\n",
       "  </thead>\n",
       "  <tbody>\n",
       "    <tr>\n",
       "      <th>0</th>\n",
       "      <td>VLY</td>\n",
       "      <td>Angelsey</td>\n",
       "      <td>{'iata': 'GCI', 'city': 'Saint Peter Port'}</td>\n",
       "      <td>0.045455</td>\n",
       "    </tr>\n",
       "    <tr>\n",
       "      <th>1</th>\n",
       "      <td>BET</td>\n",
       "      <td>Bethel</td>\n",
       "      <td>{'iata': 'ANI', 'city': 'Aniak'}</td>\n",
       "      <td>0.071429</td>\n",
       "    </tr>\n",
       "    <tr>\n",
       "      <th>2</th>\n",
       "      <td>BNB</td>\n",
       "      <td>Boende</td>\n",
       "      <td>{'iata': 'FIH', 'city': 'Kinshasa'}</td>\n",
       "      <td>0.058824</td>\n",
       "    </tr>\n",
       "    <tr>\n",
       "      <th>3</th>\n",
       "      <td>HMV</td>\n",
       "      <td>Hemavan</td>\n",
       "      <td>{'iata': 'ARN', 'city': 'Stockholm'}</td>\n",
       "      <td>0.005952</td>\n",
       "    </tr>\n",
       "    <tr>\n",
       "      <th>4</th>\n",
       "      <td>HJR</td>\n",
       "      <td>Khajuraho</td>\n",
       "      <td>{'iata': 'JAI', 'city': 'Jaipur'}</td>\n",
       "      <td>0.058824</td>\n",
       "    </tr>\n",
       "    <tr>\n",
       "      <th>5</th>\n",
       "      <td>MMU</td>\n",
       "      <td>Morristown</td>\n",
       "      <td>{'iata': 'MSN', 'city': 'Madison'}</td>\n",
       "      <td>0.052632</td>\n",
       "    </tr>\n",
       "    <tr>\n",
       "      <th>6</th>\n",
       "      <td>PRI</td>\n",
       "      <td>Praslin Island</td>\n",
       "      <td>{'iata': 'DUR', 'city': 'Durban'}</td>\n",
       "      <td>0.062500</td>\n",
       "    </tr>\n",
       "    <tr>\n",
       "      <th>7</th>\n",
       "      <td>ISC</td>\n",
       "      <td>St. Mary's</td>\n",
       "      <td>{'iata': 'EGC', 'city': 'Bergerac/Roumanière'}</td>\n",
       "      <td>0.071429</td>\n",
       "    </tr>\n",
       "    <tr>\n",
       "      <th>8</th>\n",
       "      <td>TVF</td>\n",
       "      <td>Thief River Falls</td>\n",
       "      <td>{'iata': 'AZA', 'city': 'Phoenix'}</td>\n",
       "      <td>0.017857</td>\n",
       "    </tr>\n",
       "    <tr>\n",
       "      <th>9</th>\n",
       "      <td>WRL</td>\n",
       "      <td>Worland</td>\n",
       "      <td>{'iata': 'DEN', 'city': 'Denver'}</td>\n",
       "      <td>0.004630</td>\n",
       "    </tr>\n",
       "  </tbody>\n",
       "</table>\n",
       "</div>"
      ],
      "text/plain": [
       "  iata               city                                  similarAirport  similarityScore\n",
       "0  VLY           Angelsey     {'iata': 'GCI', 'city': 'Saint Peter Port'}         0.045455\n",
       "1  BET             Bethel                {'iata': 'ANI', 'city': 'Aniak'}         0.071429\n",
       "2  BNB             Boende             {'iata': 'FIH', 'city': 'Kinshasa'}         0.058824\n",
       "3  HMV            Hemavan            {'iata': 'ARN', 'city': 'Stockholm'}         0.005952\n",
       "4  HJR          Khajuraho               {'iata': 'JAI', 'city': 'Jaipur'}         0.058824\n",
       "5  MMU         Morristown              {'iata': 'MSN', 'city': 'Madison'}         0.052632\n",
       "6  PRI     Praslin Island               {'iata': 'DUR', 'city': 'Durban'}         0.062500\n",
       "7  ISC         St. Mary's  {'iata': 'EGC', 'city': 'Bergerac/Roumanière'}         0.071429\n",
       "8  TVF  Thief River Falls              {'iata': 'AZA', 'city': 'Phoenix'}         0.017857\n",
       "9  WRL            Worland               {'iata': 'DEN', 'city': 'Denver'}         0.004630"
      ]
     },
     "execution_count": 47,
     "metadata": {},
     "output_type": "execute_result"
    }
   ],
   "source": [
    "# Define the Cypher query to Extract Node similarity Algorithm Results for each airport and then returned the 10 airport pairs with the lowest similarity across the whole graph.\n",
    "def execute_query(driver, query):\n",
    "    with driver.session() as session:\n",
    "        result = session.run(query)\n",
    "        return [record.data() for record in result]\n",
    "\n",
    "query = \"\"\"\n",
    "CALL gds.nodeSimilarity.stream(\n",
    "    'routes',\n",
    "    {\n",
    "        topK: 1,\n",
    "        bottomN: 10\n",
    "    }\n",
    ")\n",
    "YIELD node1, node2, similarity\n",
    "WITH gds.util.asNode(node1) AS n1, gds.util.asNode(node2) AS n2, similarity AS similarityScore\n",
    "RETURN\n",
    "    n1.iata AS iata,\n",
    "    n1.city AS city,\n",
    "    {iata:n2.iata, city:n2.city} AS similarAirport,\n",
    "    similarityScore\n",
    "ORDER BY city\n",
    "\"\"\"\n",
    "\n",
    "try:\n",
    "    results = execute_query(driver, query)\n",
    "    print(\"Node similarity Algorithm Results:\\n\")\n",
    "except Exception as e:\n",
    "    print(f\"Error running Node similarity Algorithm: {e}\")\n",
    "\n",
    "# Convert the results to a DataFrame\n",
    "df = pd.DataFrame(results)\n",
    "\n",
    "pd.set_option('display.max_columns', None)\n",
    "pd.set_option('display.width', 1000)\n",
    "pd.set_option('display.max_rows', None)\n",
    "pd.set_option('display.max_colwidth', None)\n",
    "\n",
    "# Display the DataFrame\n",
    "df"
   ]
  },
  {
   "cell_type": "code",
   "execution_count": null,
   "id": "72b417af-81e7-42f1-b1df-02f6553a70d0",
   "metadata": {},
   "outputs": [],
   "source": []
  },
  {
   "cell_type": "code",
   "execution_count": null,
   "id": "803c9b3e-551c-4c16-be6e-c576e20fac8d",
   "metadata": {},
   "outputs": [],
   "source": []
  },
  {
   "cell_type": "code",
   "execution_count": null,
   "id": "2c64e7c1",
   "metadata": {},
   "outputs": [],
   "source": []
  }
 ],
 "metadata": {
  "kernelspec": {
   "display_name": "Python 3 (ipykernel)",
   "language": "python",
   "name": "python3"
  },
  "language_info": {
   "codemirror_mode": {
    "name": "ipython",
    "version": 3
   },
   "file_extension": ".py",
   "mimetype": "text/x-python",
   "name": "python",
   "nbconvert_exporter": "python",
   "pygments_lexer": "ipython3",
   "version": "3.9.19"
  }
 },
 "nbformat": 4,
 "nbformat_minor": 5
}
